{
 "cells": [
  {
   "cell_type": "markdown",
   "metadata": {},
   "source": [
    "# *Referance purpose link:*\n",
    "\n",
    "https://bit.do/anits-cse2"
   ]
  },
  {
   "cell_type": "markdown",
   "metadata": {},
   "source": [
    "# for loop"
   ]
  },
  {
   "cell_type": "code",
   "execution_count": 2,
   "metadata": {},
   "outputs": [
    {
     "name": "stdout",
     "output_type": "stream",
     "text": [
      "enter lower limit:1\n",
      "enter upper limit:3\n",
      "1\n",
      "2\n"
     ]
    }
   ],
   "source": [
    "n=int(input(\"enter lower limit:\"))\n",
    "m=int(input(\"enter upper limit:\"))\n",
    "for i in range(n,m):\n",
    "    print(i)"
   ]
  },
  {
   "cell_type": "markdown",
   "metadata": {},
   "source": [
    "**even number range:**"
   ]
  },
  {
   "cell_type": "code",
   "execution_count": 10,
   "metadata": {},
   "outputs": [
    {
     "name": "stdout",
     "output_type": "stream",
     "text": [
      "enter lower limit:1\n",
      "enter upper limit:7\n",
      "enter how many steps it must skip:2\n",
      "1 3 5 "
     ]
    }
   ],
   "source": [
    "n=int(input(\"enter lower limit:\"))\n",
    "m=int(input(\"enter upper limit:\"))\n",
    "s=int(input(\"enter how many steps it must skip:\"))  #for even number, n must start with 0(even number)\n",
    "for i in range(n,m,s):                            #for odd number , n must start with 1(odd number)\n",
    "    print(i,end=\" \")"
   ]
  },
  {
   "cell_type": "markdown",
   "metadata": {},
   "source": [
    "**factorial**"
   ]
  },
  {
   "cell_type": "code",
   "execution_count": 2,
   "metadata": {},
   "outputs": [
    {
     "name": "stdout",
     "output_type": "stream",
     "text": [
      "enter number to find factorial:5\n",
      "120\n"
     ]
    }
   ],
   "source": [
    "n=int(input(\"enter number to find factorial:\"))\n",
    "x=1\n",
    "for i in range(1,n+1):\n",
    "    x=x*i\n",
    "print(x)"
   ]
  },
  {
   "cell_type": "markdown",
   "metadata": {},
   "source": [
    "**fibanocii**"
   ]
  },
  {
   "cell_type": "code",
   "execution_count": 18,
   "metadata": {},
   "outputs": [
    {
     "name": "stdout",
     "output_type": "stream",
     "text": [
      "enter range of fibanocii series:10\n",
      "0 1 1 2 3 5 8 13 21 34 "
     ]
    }
   ],
   "source": [
    "n=int(input(\"enter range of fibanocii series:\"))\n",
    "f=0\n",
    "f1=1\n",
    "print(f,f1,end=\" \")\n",
    "for i in range(2,n):    #we can also write for i in range(n-2)\n",
    "    f2=f+f1\n",
    "    print(f2,end=\" \")\n",
    "    f=f1          #we can also write f,f1=f1,f2\n",
    "    f1=f2"
   ]
  },
  {
   "cell_type": "markdown",
   "metadata": {},
   "source": [
    "**fibanocci starting with 1**"
   ]
  },
  {
   "cell_type": "code",
   "execution_count": 19,
   "metadata": {},
   "outputs": [
    {
     "name": "stdout",
     "output_type": "stream",
     "text": [
      "enter range of fibanocii series:5\n",
      "1 1 2 3 5 "
     ]
    }
   ],
   "source": [
    "n=int(input(\"enter range of fibanocii series:\"))\n",
    "f,f1,f2=0,1,0\n",
    "for i in range(n):    \n",
    "    f,f1=f1,f2\n",
    "    f2=f+f1\n",
    "    print(f2,end=\" \")"
   ]
  },
  {
   "cell_type": "markdown",
   "metadata": {},
   "source": [
    "```\n",
    "input :2\n",
    "        11\n",
    "  output:\n",
    "   12ak1a0502\n",
    "   |\n",
    "   |\n",
    "   |\n",
    "   12ak1a0510\n",
    "```"
   ]
  },
  {
   "cell_type": "code",
   "execution_count": 10,
   "metadata": {},
   "outputs": [
    {
     "name": "stdout",
     "output_type": "stream",
     "text": [
      "start2\n",
      "end11\n",
      "12ak1a0502\n",
      "12ak1a0503\n",
      "12ak1a0504\n",
      "12ak1a0505\n",
      "12ak1a0506\n",
      "12ak1a0507\n",
      "12ak1a0508\n",
      "12ak1a0509\n",
      "12ak1a0510\n",
      "12ak1a0511\n"
     ]
    }
   ],
   "source": [
    "n=int(input(\"start\"))\n",
    "m=int(input(\"end\"))\n",
    "for h in range(n,m+1):\n",
    "    #if h<10:\n",
    "     #   print(\"12ak1a050{}\".format(h))\n",
    "    #else:\n",
    "     #   print(\"12ak1a05{}\".format(h))\n",
    "    print(\"12ak1a05{:02}\".format(h))"
   ]
  },
  {
   "cell_type": "markdown",
   "metadata": {},
   "source": [
    "# *while*"
   ]
  },
  {
   "cell_type": "code",
   "execution_count": 8,
   "metadata": {},
   "outputs": [
    {
     "name": "stdout",
     "output_type": "stream",
     "text": [
      "lower limit 1\n",
      "upper limit 12\n",
      "1 2 3 4 5 6 7 8 9 10 11 "
     ]
    }
   ],
   "source": [
    "n=int(input(\"lower limit \"))\n",
    "m=int(input(\"upper limit \"))\n",
    "while n!=m+1:   #while n<=m:\n",
    "    print(n,end=\" \")\n",
    "    n+=1"
   ]
  },
  {
   "cell_type": "markdown",
   "metadata": {},
   "source": [
    "**string length**"
   ]
  },
  {
   "cell_type": "code",
   "execution_count": 3,
   "metadata": {},
   "outputs": [
    {
     "name": "stdout",
     "output_type": "stream",
     "text": [
      "1235457667567687987\n",
      "given number is : 1235457667567687987and its length is: 19\n"
     ]
    }
   ],
   "source": [
    "n=int(input())\n",
    "x=0\n",
    "m=n\n",
    "while n!=0:\n",
    "    x=x+1\n",
    "    n=n//10    #division = //\n",
    "print(\"given number is : {0}and its length is: {1}\".format(m,x))"
   ]
  },
  {
   "cell_type": "code",
   "execution_count": 7,
   "metadata": {},
   "outputs": [
    {
     "name": "stdout",
     "output_type": "stream",
     "text": [
      "124322435466\n",
      "12\n"
     ]
    }
   ],
   "source": [
    "#n=int(input())\n",
    "#k = len(str(n)) \n",
    "#print(k)\n",
    "print(len(str(int(input()))))"
   ]
  },
  {
   "cell_type": "code",
   "execution_count": 36,
   "metadata": {},
   "outputs": [
    {
     "name": "stdout",
     "output_type": "stream",
     "text": [
      "287423\n",
      "given number is 287423 \n",
      "even numbers are:  2 8 4 2 \n",
      "odd numbers are:  7 3 \n",
      "no of even numbers are : 4 \n",
      "no of odd numbers are : 2\n"
     ]
    }
   ],
   "source": [
    "n=int(input())\n",
    "rev=count=oddcount=0\n",
    "print(\"given number is {}\".format(n),end=\" \")\n",
    "while n!=0:\n",
    "    rev=rev*10 + n%10\n",
    "    n=n//10\n",
    "print(\"\\neven numbers are: \",end=\" \")\n",
    "rev1=rev\n",
    "while rev!=0:\n",
    "    k=rev%10\n",
    "    if(rev%2==0):\n",
    "        print(k,end=\" \")\n",
    "        count=count+1\n",
    "    rev=rev//10\n",
    "print(\"\\nodd numbers are: \",end=\" \")\n",
    "while rev1!=0:\n",
    "    m=rev1%10\n",
    "    if(m%2!=0):\n",
    "        oddcount+=1\n",
    "        print(m,end=\" \")\n",
    "    rev1=rev1//10\n",
    "print(\"\\nno of even numbers are : {}\".format(count),end=\" \") \n",
    "print(\"\\nno of odd numbers are : {}\".format(oddcount)) "
   ]
  },
  {
   "cell_type": "markdown",
   "metadata": {},
   "source": [
    "# *Jump statements*\n",
    "\n",
    "``` \n",
    "    -continue\n",
    "    -break\n",
    "    -pass\n",
    "    -return\n",
    "```"
   ]
  },
  {
   "cell_type": "code",
   "execution_count": 6,
   "metadata": {},
   "outputs": [
    {
     "name": "stdout",
     "output_type": "stream",
     "text": [
      "lower limit1\n",
      "upper limit7\n",
      "element to delete3\n",
      "1 2 4 5 6 7 "
     ]
    }
   ],
   "source": [
    "n=int(input(\"lower limit\"))\n",
    "m=int(input(\"upper limit\"))\n",
    "l=int(input(\"element to delete\"))\n",
    "for j in range(n,m+1):\n",
    "    if(j==l):\n",
    "        continue\n",
    "    else:\n",
    "        print(j,end=\" \")\n",
    "    \n"
   ]
  },
  {
   "cell_type": "code",
   "execution_count": 1,
   "metadata": {},
   "outputs": [
    {
     "name": "stdout",
     "output_type": "stream",
     "text": [
      "lower limit1\n",
      "upper limit7\n",
      "element upto which to be printed3\n",
      "1 2 "
     ]
    }
   ],
   "source": [
    "n=int(input(\"lower limit\"))\n",
    "m=int(input(\"upper limit\"))\n",
    "l=int(input(\"element upto which to be printed\"))\n",
    "for j in range(n,m+1):\n",
    "    if(j==l):\n",
    "        break\n",
    "    else:\n",
    "        print(j,end=\" \")"
   ]
  },
  {
   "cell_type": "markdown",
   "metadata": {},
   "source": [
    "# *Inner Loops:\n",
    "```    \n",
    "    -loop within a loop\n",
    "```"
   ]
  },
  {
   "cell_type": "code",
   "execution_count": 3,
   "metadata": {},
   "outputs": [
    {
     "name": "stdout",
     "output_type": "stream",
     "text": [
      "3\n",
      "1 -> 1    1 -> 2    1 -> 3    \n",
      "2 -> 1    2 -> 2    2 -> 3    \n",
      "3 -> 1    3 -> 2    3 -> 3    \n"
     ]
    }
   ],
   "source": [
    "s=int(input())\n",
    "for r in range(1,s+1):\n",
    "    for c in range(1,s+1):\n",
    "        print(r,'->',c,end=\"    \")\n",
    "    print(end=\"\\n\")\n"
   ]
  },
  {
   "cell_type": "code",
   "execution_count": 4,
   "metadata": {},
   "outputs": [
    {
     "name": "stdout",
     "output_type": "stream",
     "text": [
      "3\n",
      "1    1    1    \n",
      "2    2    2    \n",
      "3    3    3    \n"
     ]
    }
   ],
   "source": [
    "s=int(input())\n",
    "for r in range(1,s+1):\n",
    "    for c in range(1,s+1):\n",
    "        print(r,end=\"    \")\n",
    "    print(end=\"\\n\")"
   ]
  },
  {
   "cell_type": "code",
   "execution_count": 5,
   "metadata": {},
   "outputs": [
    {
     "name": "stdout",
     "output_type": "stream",
     "text": [
      "3\n",
      "1    2    3    \n",
      "1    2    3    \n",
      "1    2    3    \n"
     ]
    }
   ],
   "source": [
    "s=int(input())\n",
    "for r in range(1,s+1):\n",
    "    for c in range(1,s+1):\n",
    "        print(c,end=\"    \")\n",
    "    print(end=\"\\n\")"
   ]
  },
  {
   "cell_type": "code",
   "execution_count": 18,
   "metadata": {},
   "outputs": [
    {
     "name": "stdout",
     "output_type": "stream",
     "text": [
      "5\n",
      " 1    2    3    4    5   \n",
      " 6    7    8    9   10   \n",
      "11   12   13   14   15   \n",
      "16   17   18   19   20   \n",
      "21   22   23   24   25   \n"
     ]
    }
   ],
   "source": [
    "s=int(input())\n",
    "x=0\n",
    "for r in range(1,s+1):\n",
    "    for c in range(1,s+1):\n",
    "        x+=1\n",
    "        print(\"{:2}\".format(x),end=\"   \")         \n",
    "    print(end=\"\\n\")"
   ]
  },
  {
   "cell_type": "code",
   "execution_count": 25,
   "metadata": {},
   "outputs": [
    {
     "name": "stdout",
     "output_type": "stream",
     "text": [
      "5\n",
      "* * * * * \n",
      "*       * \n",
      "*       * \n",
      "*       * \n",
      "* * * * * \n"
     ]
    }
   ],
   "source": [
    "s=int(input())\n",
    "for r in range(1,s+1):\n",
    "    for c in range(1,s+1):\n",
    "        if(r==1 or c==1 or r==s or c==s):\n",
    "            print(\"*\",end=\" \")\n",
    "        else:\n",
    "            print(\" \",end=\" \")\n",
    "    print(end=\"\\n\")\n"
   ]
  },
  {
   "cell_type": "code",
   "execution_count": 34,
   "metadata": {},
   "outputs": [
    {
     "name": "stdout",
     "output_type": "stream",
     "text": [
      "1   2   3   4   5   6   7   \n",
      "\n",
      "8   9   10  11  12  13  14  \n",
      "\n",
      "15  16  17  18  19  20  21  \n",
      "\n",
      "22  23  24  25  26  27  28  \n",
      "\n",
      "29  30  31  \n",
      "\n"
     ]
    }
   ],
   "source": [
    "x=0\n",
    "for r in range(1,5+1):\n",
    "    for c in range(1,7+1):\n",
    "        x+=1\n",
    "        if(x<=31):\n",
    "            print(\"{:^2}\".format(x),end=\"  \")\n",
    "    print(\"\\n\")"
   ]
  },
  {
   "cell_type": "code",
   "execution_count": 42,
   "metadata": {},
   "outputs": [
    {
     "name": "stdout",
     "output_type": "stream",
     "text": [
      "1   **  3   **  5   **  7   \n",
      "\n",
      "**  9   **  11  **  13  **  \n",
      "\n",
      "15  **  17  **  19  **  21  \n",
      "\n",
      "**  23  **  25  **  27  **  \n",
      "\n",
      "29  **  31    \n",
      "  \n",
      "  \n",
      "  \n",
      "\n",
      "\n"
     ]
    }
   ],
   "source": [
    "x=0\n",
    "for r in range(1,5+1):\n",
    "    for c in range(1,7+1):\n",
    "        x+=1\n",
    "        if(x%2==0 and x<=31):\n",
    "            print(\"** \",end=\" \")\n",
    "        elif(x>31):\n",
    "            print(\"  \")\n",
    "        else:\n",
    "                print(\"{:^2}\".format(x),end=\"  \")\n",
    "    print(\"\\n\")"
   ]
  },
  {
   "cell_type": "code",
   "execution_count": 45,
   "metadata": {},
   "outputs": [
    {
     "name": "stdout",
     "output_type": "stream",
     "text": [
      "1   **  3   **  5   **  7   \n",
      "\n",
      "**  9   **  11  **  13  **  \n",
      "\n",
      "15  **  17  **  19  **  21  \n",
      "\n",
      "##  ##  ##  ##  ##  ##  ##  \n",
      "\n",
      "##  ##  ##    \n",
      "  \n",
      "  \n",
      "  \n",
      "\n",
      "\n"
     ]
    }
   ],
   "source": [
    "x=0\n",
    "for r in range(1,5+1):\n",
    "    for c in range(1,7+1):\n",
    "        x+=1\n",
    "        if(x%2==0 and x<=21):\n",
    "            print(\"** \",end=\" \")\n",
    "        elif(x>31):\n",
    "            print(\"  \")\n",
    "        elif(x>21 and x<=31):\n",
    "            print(\"## \",end=\" \")\n",
    "        \n",
    "        else:\n",
    "                print(\"{:^2}\".format(x),end=\"  \")\n",
    "    print(\"\\n\")"
   ]
  },
  {
   "cell_type": "code",
   "execution_count": 74,
   "metadata": {},
   "outputs": [
    {
     "name": "stdout",
     "output_type": "stream",
     "text": [
      "[]  **  ::  **  ()  **  ()  \n",
      "\n",
      "**  ::  **  []  **  []  **  \n",
      "\n",
      "::  **  []  **  []  **  ::  \n",
      "\n",
      "##  ##  ##  ##  ##  ##  ##  \n",
      "\n",
      "##  ##  ##    \n",
      "  \n",
      "  \n",
      "  \n",
      "\n",
      "\n"
     ]
    }
   ],
   "source": [
    "x=0\n",
    "for r in range(1,5+1):\n",
    "    for c in range(1,7+1):\n",
    "        x+=1\n",
    "        if(x%10==1 and x<=21 and (x%7)!=0):\n",
    "            print(\"[] \",end=\" \")\n",
    "        elif(x%10==3 and x<=21 and (x%3)!=0):\n",
    "            print(\"[] \",end=\" \")\n",
    "        elif(x%10==5 and x<=21 and (x%5)!=0):\n",
    "            print(\"[] \",end=\" \")\n",
    "        elif(x%10==7 and x<=21 and (x%7)!=0):\n",
    "            print(\"[] \",end=\" \")\n",
    "        elif(x%10==9 and x<=21 and (x%9)!=0):\n",
    "            print(\"[] \",end=\" \")\n",
    "        elif(x%2==0 and x<=21):\n",
    "            print(\"** \",end=\" \")\n",
    "        elif(x%3==0and x<=21):\n",
    "            print(\":: \",end=\" \")\n",
    "        elif(x%2!=0 and x<=21):\n",
    "            print(\"() \",end=\" \")    \n",
    "        elif(x>31):\n",
    "            print(\"  \")\n",
    "        elif(x>21 and x<=31):\n",
    "            print(\"## \",end=\" \")\n",
    "        \n",
    "        else:\n",
    "                print(\"{:^2}\".format(x),end=\"  \")\n",
    "    print(\"\\n\")"
   ]
  },
  {
   "cell_type": "code",
   "execution_count": 73,
   "metadata": {},
   "outputs": [
    {
     "name": "stdout",
     "output_type": "stream",
     "text": [
      "[]  **  ::  **  ()  ||  ()  \n",
      "\n",
      "**  ::  **  []  **  ||  **  \n",
      "\n",
      "::  **  []  **  []  ||  ::  \n",
      "\n",
      "##  ##  ##  ##  ##  ||  ##  \n",
      "\n",
      "##  ##  ##    \n",
      "  \n",
      "  \n",
      "  \n",
      "\n",
      "\n"
     ]
    }
   ],
   "source": [
    "x=0\n",
    "for r in range(1,5+1):\n",
    "    for c in range(1,7+1):\n",
    "        x+=1\n",
    "        if(x%7==6and x<31):\n",
    "            print(\"|| \",end=\" \") \n",
    "        elif(x%10==1 and x<=21 and (x%7)!=0):\n",
    "            print(\"[] \",end=\" \")\n",
    "        elif(x%10==3 and x<=21 and (x%3)!=0):\n",
    "            print(\"[] \",end=\" \")\n",
    "        elif(x%10==5 and x<=21 and (x%5)!=0):\n",
    "            print(\"[] \",end=\" \")\n",
    "        elif(x%10==7 and x<=21 and (x%7)!=0):\n",
    "            print(\"[] \",end=\" \")\n",
    "        elif(x%10==9 and x<=21 and (x%9)!=0):\n",
    "            print(\"[] \",end=\" \")\n",
    "        elif(x%2==0 and x<=21):\n",
    "            print(\"** \",end=\" \")\n",
    "        elif(x%3==0and x<=21):\n",
    "            print(\":: \",end=\" \")\n",
    "        elif(x%2!=0 and x<=21):\n",
    "            print(\"() \",end=\" \")    \n",
    "        elif(x>31):\n",
    "            print(\"  \")\n",
    "        elif(x>21 and x<=31):\n",
    "            print(\"## \",end=\" \")\n",
    "        \n",
    "        else:\n",
    "                print(\"{:^2}\".format(x),end=\"  \")\n",
    "    print(\"\\n\")"
   ]
  },
  {
   "cell_type": "code",
   "execution_count": 71,
   "metadata": {},
   "outputs": [
    {
     "name": "stdout",
     "output_type": "stream",
     "text": [
      "A\n",
      "nits College\n",
      "egelloC stinA\n",
      "isC\n",
      "Anits\n",
      " College\n",
      "College\n",
      "AisClee\n",
      "nt olg\n",
      "C stinA\n",
      "stinA\n",
      "lloC stinA\n",
      "eelCsiA\n",
      "glo tn\n"
     ]
    }
   ],
   "source": [
    "s=\"Anits College\"\n",
    "print(s[:1]) # to print the starting value of string\n",
    "print(s[1:]) # to print the string except starting value\n",
    "print(s[::-1]) # to print the reverse of a string\n",
    "print(s[2:8:2]) # to print from start (2)(includes) , end(8)(excludes) ,with step(2)\n",
    "print(s[:5]) # to print first 5 chars\n",
    "print(s[5:]) # to print chars after 5th character\n",
    "print(s[-7:]) # to print last 7 chars\n",
    "print(s[::2]) # to print odd positions\n",
    "print(s[1::2]) # to print even positions\n",
    "print(s[-7::-1])\n",
    "print(s[4::-1]) # to print first 5 characters in reverse \n",
    "print(s[-4::-1])\n",
    "print(s[::-2]) # to print odd positions in reverse order\n",
    "print(s[-2::-2]) # to print even positions in reverse order"
   ]
  },
  {
   "cell_type": "code",
   "execution_count": 75,
   "metadata": {},
   "outputs": [
    {
     "name": "stdout",
     "output_type": "stream",
     "text": [
      "<class 'str'>\n",
      "<class 'list'>\n"
     ]
    }
   ],
   "source": [
    "print(type(s))\n",
    "s1=s.split(\" \")\n",
    "print(type(s1))"
   ]
  },
  {
   "cell_type": "code",
   "execution_count": 78,
   "metadata": {},
   "outputs": [
    {
     "name": "stdout",
     "output_type": "stream",
     "text": [
      "<class 'str'>\n",
      "['A', 'its College']\n"
     ]
    }
   ],
   "source": [
    "print(type(s))\n",
    "print(s.split(\"n\"))"
   ]
  },
  {
   "cell_type": "code",
   "execution_count": 79,
   "metadata": {},
   "outputs": [
    {
     "name": "stdout",
     "output_type": "stream",
     "text": [
      "<class 'str'>\n",
      "['Anits', 'College']\n"
     ]
    }
   ],
   "source": [
    "print(type(s))\n",
    "print(s.split(\" \"))"
   ]
  },
  {
   "cell_type": "code",
   "execution_count": 81,
   "metadata": {},
   "outputs": [
    {
     "name": "stdout",
     "output_type": "stream",
     "text": [
      "<class 'str'>\n",
      "['Anits', 'College']\n",
      "False\n",
      "False\n",
      "anits college\n",
      "ANITS COLLEGE\n",
      "Anits College\n",
      "2\n"
     ]
    }
   ],
   "source": [
    "print(type(s))\n",
    "print(s.split(\" \"))\n",
    "print(s.islower())\n",
    "print(s.isupper())\n",
    "print(s.lower())\n",
    "print(s.upper()) # we r just displaying but not assigning\n",
    "print(s) \n",
    "print(s.count('e'))"
   ]
  },
  {
   "cell_type": "code",
   "execution_count": 86,
   "metadata": {},
   "outputs": [
    {
     "name": "stdout",
     "output_type": "stream",
     "text": [
      "This is python workshop\n",
      "This Is Python Workshop\n"
     ]
    }
   ],
   "source": [
    "a=\"this is python workshop\"\n",
    "print(a.capitalize()) # first letter of first word is capitalized\n",
    "print(a.title()) # first letter of every word is capitalized"
   ]
  },
  {
   "cell_type": "code",
   "execution_count": 87,
   "metadata": {},
   "outputs": [
    {
     "name": "stdout",
     "output_type": "stream",
     "text": [
      "['__add__', '__class__', '__contains__', '__delattr__', '__dir__', '__doc__', '__eq__', '__format__', '__ge__', '__getattribute__', '__getitem__', '__getnewargs__', '__gt__', '__hash__', '__init__', '__init_subclass__', '__iter__', '__le__', '__len__', '__lt__', '__mod__', '__mul__', '__ne__', '__new__', '__reduce__', '__reduce_ex__', '__repr__', '__rmod__', '__rmul__', '__setattr__', '__sizeof__', '__str__', '__subclasshook__', 'capitalize', 'casefold', 'center', 'count', 'encode', 'endswith', 'expandtabs', 'find', 'format', 'format_map', 'index', 'isalnum', 'isalpha', 'isascii', 'isdecimal', 'isdigit', 'isidentifier', 'islower', 'isnumeric', 'isprintable', 'isspace', 'istitle', 'isupper', 'join', 'ljust', 'lower', 'lstrip', 'maketrans', 'partition', 'replace', 'rfind', 'rindex', 'rjust', 'rpartition', 'rsplit', 'rstrip', 'split', 'splitlines', 'startswith', 'strip', 'swapcase', 'title', 'translate', 'upper', 'zfill']\n"
     ]
    }
   ],
   "source": [
    "print(dir(str))"
   ]
  },
  {
   "cell_type": "code",
   "execution_count": 88,
   "metadata": {},
   "outputs": [
    {
     "name": "stdout",
     "output_type": "stream",
     "text": [
      "Help on class str in module builtins:\n",
      "\n",
      "class str(object)\n",
      " |  str(object='') -> str\n",
      " |  str(bytes_or_buffer[, encoding[, errors]]) -> str\n",
      " |  \n",
      " |  Create a new string object from the given object. If encoding or\n",
      " |  errors is specified, then the object must expose a data buffer\n",
      " |  that will be decoded using the given encoding and error handler.\n",
      " |  Otherwise, returns the result of object.__str__() (if defined)\n",
      " |  or repr(object).\n",
      " |  encoding defaults to sys.getdefaultencoding().\n",
      " |  errors defaults to 'strict'.\n",
      " |  \n",
      " |  Methods defined here:\n",
      " |  \n",
      " |  __add__(self, value, /)\n",
      " |      Return self+value.\n",
      " |  \n",
      " |  __contains__(self, key, /)\n",
      " |      Return key in self.\n",
      " |  \n",
      " |  __eq__(self, value, /)\n",
      " |      Return self==value.\n",
      " |  \n",
      " |  __format__(self, format_spec, /)\n",
      " |      Return a formatted version of the string as described by format_spec.\n",
      " |  \n",
      " |  __ge__(self, value, /)\n",
      " |      Return self>=value.\n",
      " |  \n",
      " |  __getattribute__(self, name, /)\n",
      " |      Return getattr(self, name).\n",
      " |  \n",
      " |  __getitem__(self, key, /)\n",
      " |      Return self[key].\n",
      " |  \n",
      " |  __getnewargs__(...)\n",
      " |  \n",
      " |  __gt__(self, value, /)\n",
      " |      Return self>value.\n",
      " |  \n",
      " |  __hash__(self, /)\n",
      " |      Return hash(self).\n",
      " |  \n",
      " |  __iter__(self, /)\n",
      " |      Implement iter(self).\n",
      " |  \n",
      " |  __le__(self, value, /)\n",
      " |      Return self<=value.\n",
      " |  \n",
      " |  __len__(self, /)\n",
      " |      Return len(self).\n",
      " |  \n",
      " |  __lt__(self, value, /)\n",
      " |      Return self<value.\n",
      " |  \n",
      " |  __mod__(self, value, /)\n",
      " |      Return self%value.\n",
      " |  \n",
      " |  __mul__(self, value, /)\n",
      " |      Return self*value.\n",
      " |  \n",
      " |  __ne__(self, value, /)\n",
      " |      Return self!=value.\n",
      " |  \n",
      " |  __repr__(self, /)\n",
      " |      Return repr(self).\n",
      " |  \n",
      " |  __rmod__(self, value, /)\n",
      " |      Return value%self.\n",
      " |  \n",
      " |  __rmul__(self, value, /)\n",
      " |      Return value*self.\n",
      " |  \n",
      " |  __sizeof__(self, /)\n",
      " |      Return the size of the string in memory, in bytes.\n",
      " |  \n",
      " |  __str__(self, /)\n",
      " |      Return str(self).\n",
      " |  \n",
      " |  capitalize(self, /)\n",
      " |      Return a capitalized version of the string.\n",
      " |      \n",
      " |      More specifically, make the first character have upper case and the rest lower\n",
      " |      case.\n",
      " |  \n",
      " |  casefold(self, /)\n",
      " |      Return a version of the string suitable for caseless comparisons.\n",
      " |  \n",
      " |  center(self, width, fillchar=' ', /)\n",
      " |      Return a centered string of length width.\n",
      " |      \n",
      " |      Padding is done using the specified fill character (default is a space).\n",
      " |  \n",
      " |  count(...)\n",
      " |      S.count(sub[, start[, end]]) -> int\n",
      " |      \n",
      " |      Return the number of non-overlapping occurrences of substring sub in\n",
      " |      string S[start:end].  Optional arguments start and end are\n",
      " |      interpreted as in slice notation.\n",
      " |  \n",
      " |  encode(self, /, encoding='utf-8', errors='strict')\n",
      " |      Encode the string using the codec registered for encoding.\n",
      " |      \n",
      " |      encoding\n",
      " |        The encoding in which to encode the string.\n",
      " |      errors\n",
      " |        The error handling scheme to use for encoding errors.\n",
      " |        The default is 'strict' meaning that encoding errors raise a\n",
      " |        UnicodeEncodeError.  Other possible values are 'ignore', 'replace' and\n",
      " |        'xmlcharrefreplace' as well as any other name registered with\n",
      " |        codecs.register_error that can handle UnicodeEncodeErrors.\n",
      " |  \n",
      " |  endswith(...)\n",
      " |      S.endswith(suffix[, start[, end]]) -> bool\n",
      " |      \n",
      " |      Return True if S ends with the specified suffix, False otherwise.\n",
      " |      With optional start, test S beginning at that position.\n",
      " |      With optional end, stop comparing S at that position.\n",
      " |      suffix can also be a tuple of strings to try.\n",
      " |  \n",
      " |  expandtabs(self, /, tabsize=8)\n",
      " |      Return a copy where all tab characters are expanded using spaces.\n",
      " |      \n",
      " |      If tabsize is not given, a tab size of 8 characters is assumed.\n",
      " |  \n",
      " |  find(...)\n",
      " |      S.find(sub[, start[, end]]) -> int\n",
      " |      \n",
      " |      Return the lowest index in S where substring sub is found,\n",
      " |      such that sub is contained within S[start:end].  Optional\n",
      " |      arguments start and end are interpreted as in slice notation.\n",
      " |      \n",
      " |      Return -1 on failure.\n",
      " |  \n",
      " |  format(...)\n",
      " |      S.format(*args, **kwargs) -> str\n",
      " |      \n",
      " |      Return a formatted version of S, using substitutions from args and kwargs.\n",
      " |      The substitutions are identified by braces ('{' and '}').\n",
      " |  \n",
      " |  format_map(...)\n",
      " |      S.format_map(mapping) -> str\n",
      " |      \n",
      " |      Return a formatted version of S, using substitutions from mapping.\n",
      " |      The substitutions are identified by braces ('{' and '}').\n",
      " |  \n",
      " |  index(...)\n",
      " |      S.index(sub[, start[, end]]) -> int\n",
      " |      \n",
      " |      Return the lowest index in S where substring sub is found, \n",
      " |      such that sub is contained within S[start:end].  Optional\n",
      " |      arguments start and end are interpreted as in slice notation.\n",
      " |      \n",
      " |      Raises ValueError when the substring is not found.\n",
      " |  \n",
      " |  isalnum(self, /)\n",
      " |      Return True if the string is an alpha-numeric string, False otherwise.\n",
      " |      \n",
      " |      A string is alpha-numeric if all characters in the string are alpha-numeric and\n",
      " |      there is at least one character in the string.\n",
      " |  \n",
      " |  isalpha(self, /)\n",
      " |      Return True if the string is an alphabetic string, False otherwise.\n",
      " |      \n",
      " |      A string is alphabetic if all characters in the string are alphabetic and there\n",
      " |      is at least one character in the string.\n",
      " |  \n",
      " |  isascii(self, /)\n",
      " |      Return True if all characters in the string are ASCII, False otherwise.\n",
      " |      \n",
      " |      ASCII characters have code points in the range U+0000-U+007F.\n",
      " |      Empty string is ASCII too.\n",
      " |  \n",
      " |  isdecimal(self, /)\n",
      " |      Return True if the string is a decimal string, False otherwise.\n",
      " |      \n",
      " |      A string is a decimal string if all characters in the string are decimal and\n",
      " |      there is at least one character in the string.\n",
      " |  \n",
      " |  isdigit(self, /)\n",
      " |      Return True if the string is a digit string, False otherwise.\n",
      " |      \n",
      " |      A string is a digit string if all characters in the string are digits and there\n",
      " |      is at least one character in the string.\n",
      " |  \n",
      " |  isidentifier(self, /)\n",
      " |      Return True if the string is a valid Python identifier, False otherwise.\n",
      " |      \n",
      " |      Use keyword.iskeyword() to test for reserved identifiers such as \"def\" and\n",
      " |      \"class\".\n",
      " |  \n",
      " |  islower(self, /)\n",
      " |      Return True if the string is a lowercase string, False otherwise.\n",
      " |      \n",
      " |      A string is lowercase if all cased characters in the string are lowercase and\n",
      " |      there is at least one cased character in the string.\n",
      " |  \n",
      " |  isnumeric(self, /)\n",
      " |      Return True if the string is a numeric string, False otherwise.\n",
      " |      \n",
      " |      A string is numeric if all characters in the string are numeric and there is at\n",
      " |      least one character in the string.\n",
      " |  \n",
      " |  isprintable(self, /)\n",
      " |      Return True if the string is printable, False otherwise.\n",
      " |      \n",
      " |      A string is printable if all of its characters are considered printable in\n",
      " |      repr() or if it is empty.\n",
      " |  \n",
      " |  isspace(self, /)\n",
      " |      Return True if the string is a whitespace string, False otherwise.\n",
      " |      \n",
      " |      A string is whitespace if all characters in the string are whitespace and there\n",
      " |      is at least one character in the string.\n",
      " |  \n",
      " |  istitle(self, /)\n",
      " |      Return True if the string is a title-cased string, False otherwise.\n",
      " |      \n",
      " |      In a title-cased string, upper- and title-case characters may only\n",
      " |      follow uncased characters and lowercase characters only cased ones.\n",
      " |  \n",
      " |  isupper(self, /)\n",
      " |      Return True if the string is an uppercase string, False otherwise.\n",
      " |      \n",
      " |      A string is uppercase if all cased characters in the string are uppercase and\n",
      " |      there is at least one cased character in the string.\n",
      " |  \n",
      " |  join(self, iterable, /)\n",
      " |      Concatenate any number of strings.\n",
      " |      \n",
      " |      The string whose method is called is inserted in between each given string.\n",
      " |      The result is returned as a new string.\n",
      " |      \n",
      " |      Example: '.'.join(['ab', 'pq', 'rs']) -> 'ab.pq.rs'\n",
      " |  \n",
      " |  ljust(self, width, fillchar=' ', /)\n",
      " |      Return a left-justified string of length width.\n",
      " |      \n",
      " |      Padding is done using the specified fill character (default is a space).\n",
      " |  \n",
      " |  lower(self, /)\n",
      " |      Return a copy of the string converted to lowercase.\n",
      " |  \n",
      " |  lstrip(self, chars=None, /)\n",
      " |      Return a copy of the string with leading whitespace removed.\n",
      " |      \n",
      " |      If chars is given and not None, remove characters in chars instead.\n",
      " |  \n",
      " |  partition(self, sep, /)\n",
      " |      Partition the string into three parts using the given separator.\n",
      " |      \n",
      " |      This will search for the separator in the string.  If the separator is found,\n",
      " |      returns a 3-tuple containing the part before the separator, the separator\n",
      " |      itself, and the part after it.\n",
      " |      \n",
      " |      If the separator is not found, returns a 3-tuple containing the original string\n",
      " |      and two empty strings.\n",
      " |  \n",
      " |  replace(self, old, new, count=-1, /)\n",
      " |      Return a copy with all occurrences of substring old replaced by new.\n",
      " |      \n",
      " |        count\n",
      " |          Maximum number of occurrences to replace.\n",
      " |          -1 (the default value) means replace all occurrences.\n",
      " |      \n",
      " |      If the optional argument count is given, only the first count occurrences are\n",
      " |      replaced.\n",
      " |  \n",
      " |  rfind(...)\n",
      " |      S.rfind(sub[, start[, end]]) -> int\n",
      " |      \n",
      " |      Return the highest index in S where substring sub is found,\n",
      " |      such that sub is contained within S[start:end].  Optional\n",
      " |      arguments start and end are interpreted as in slice notation.\n",
      " |      \n",
      " |      Return -1 on failure.\n",
      " |  \n",
      " |  rindex(...)\n",
      " |      S.rindex(sub[, start[, end]]) -> int\n",
      " |      \n",
      " |      Return the highest index in S where substring sub is found,\n",
      " |      such that sub is contained within S[start:end].  Optional\n",
      " |      arguments start and end are interpreted as in slice notation.\n",
      " |      \n",
      " |      Raises ValueError when the substring is not found.\n",
      " |  \n",
      " |  rjust(self, width, fillchar=' ', /)\n",
      " |      Return a right-justified string of length width.\n",
      " |      \n",
      " |      Padding is done using the specified fill character (default is a space).\n",
      " |  \n",
      " |  rpartition(self, sep, /)\n",
      " |      Partition the string into three parts using the given separator.\n",
      " |      \n",
      " |      This will search for the separator in the string, starting at the end. If\n",
      " |      the separator is found, returns a 3-tuple containing the part before the\n",
      " |      separator, the separator itself, and the part after it.\n",
      " |      \n",
      " |      If the separator is not found, returns a 3-tuple containing two empty strings\n",
      " |      and the original string.\n",
      " |  \n",
      " |  rsplit(self, /, sep=None, maxsplit=-1)\n",
      " |      Return a list of the words in the string, using sep as the delimiter string.\n",
      " |      \n",
      " |        sep\n",
      " |          The delimiter according which to split the string.\n",
      " |          None (the default value) means split according to any whitespace,\n",
      " |          and discard empty strings from the result.\n",
      " |        maxsplit\n",
      " |          Maximum number of splits to do.\n",
      " |          -1 (the default value) means no limit.\n",
      " |      \n",
      " |      Splits are done starting at the end of the string and working to the front.\n",
      " |  \n",
      " |  rstrip(self, chars=None, /)\n",
      " |      Return a copy of the string with trailing whitespace removed.\n",
      " |      \n",
      " |      If chars is given and not None, remove characters in chars instead.\n",
      " |  \n",
      " |  split(self, /, sep=None, maxsplit=-1)\n",
      " |      Return a list of the words in the string, using sep as the delimiter string.\n",
      " |      \n",
      " |      sep\n",
      " |        The delimiter according which to split the string.\n",
      " |        None (the default value) means split according to any whitespace,\n",
      " |        and discard empty strings from the result.\n",
      " |      maxsplit\n",
      " |        Maximum number of splits to do.\n",
      " |        -1 (the default value) means no limit.\n",
      " |  \n",
      " |  splitlines(self, /, keepends=False)\n",
      " |      Return a list of the lines in the string, breaking at line boundaries.\n",
      " |      \n",
      " |      Line breaks are not included in the resulting list unless keepends is given and\n",
      " |      true.\n",
      " |  \n",
      " |  startswith(...)\n",
      " |      S.startswith(prefix[, start[, end]]) -> bool\n",
      " |      \n",
      " |      Return True if S starts with the specified prefix, False otherwise.\n",
      " |      With optional start, test S beginning at that position.\n",
      " |      With optional end, stop comparing S at that position.\n",
      " |      prefix can also be a tuple of strings to try.\n",
      " |  \n",
      " |  strip(self, chars=None, /)\n",
      " |      Return a copy of the string with leading and trailing whitespace remove.\n",
      " |      \n",
      " |      If chars is given and not None, remove characters in chars instead.\n",
      " |  \n",
      " |  swapcase(self, /)\n",
      " |      Convert uppercase characters to lowercase and lowercase characters to uppercase.\n",
      " |  \n",
      " |  title(self, /)\n",
      " |      Return a version of the string where each word is titlecased.\n",
      " |      \n",
      " |      More specifically, words start with uppercased characters and all remaining\n",
      " |      cased characters have lower case.\n",
      " |  \n",
      " |  translate(self, table, /)\n",
      " |      Replace each character in the string using the given translation table.\n",
      " |      \n",
      " |        table\n",
      " |          Translation table, which must be a mapping of Unicode ordinals to\n",
      " |          Unicode ordinals, strings, or None.\n",
      " |      \n",
      " |      The table must implement lookup/indexing via __getitem__, for instance a\n",
      " |      dictionary or list.  If this operation raises LookupError, the character is\n",
      " |      left untouched.  Characters mapped to None are deleted.\n",
      " |  \n",
      " |  upper(self, /)\n",
      " |      Return a copy of the string converted to uppercase.\n",
      " |  \n",
      " |  zfill(self, width, /)\n",
      " |      Pad a numeric string with zeros on the left, to fill a field of the given width.\n",
      " |      \n",
      " |      The string is never truncated.\n",
      " |  \n",
      " |  ----------------------------------------------------------------------\n",
      " |  Static methods defined here:\n",
      " |  \n",
      " |  __new__(*args, **kwargs) from builtins.type\n",
      " |      Create and return a new object.  See help(type) for accurate signature.\n",
      " |  \n",
      " |  maketrans(x, y=None, z=None, /)\n",
      " |      Return a translation table usable for str.translate().\n",
      " |      \n",
      " |      If there is only one argument, it must be a dictionary mapping Unicode\n",
      " |      ordinals (integers) or characters to Unicode ordinals, strings or None.\n",
      " |      Character keys will be then converted to ordinals.\n",
      " |      If there are two arguments, they must be strings of equal length, and\n",
      " |      in the resulting dictionary, each character in x will be mapped to the\n",
      " |      character at the same position in y. If there is a third argument, it\n",
      " |      must be a string, whose characters will be mapped to None in the result.\n",
      "\n",
      "None\n"
     ]
    }
   ],
   "source": [
    "print(help(str))"
   ]
  },
  {
   "cell_type": "markdown",
   "metadata": {},
   "source": [
    "**print(dir(str))**"
   ]
  },
  {
   "cell_type": "markdown",
   "metadata": {},
   "source": [
    "**print(help(str))**"
   ]
  },
  {
   "cell_type": "code",
   "execution_count": null,
   "metadata": {},
   "outputs": [],
   "source": []
  }
 ],
 "metadata": {
  "kernelspec": {
   "display_name": "Python 3",
   "language": "python",
   "name": "python3"
  },
  "language_info": {
   "codemirror_mode": {
    "name": "ipython",
    "version": 3
   },
   "file_extension": ".py",
   "mimetype": "text/x-python",
   "name": "python",
   "nbconvert_exporter": "python",
   "pygments_lexer": "ipython3",
   "version": "3.7.4"
  }
 },
 "nbformat": 4,
 "nbformat_minor": 2
}
