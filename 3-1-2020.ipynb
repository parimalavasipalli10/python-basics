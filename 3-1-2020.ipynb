{
 "cells": [
  {
   "cell_type": "markdown",
   "metadata": {},
   "source": [
    "# *Functions and its Types:*"
   ]
  },
  {
   "cell_type": "markdown",
   "metadata": {},
   "source": [
    "```\n",
    "#what is function\n",
    "syntax :\n",
    "        **def fun(arg1,arg2):   # position ,default value ,keyword ,variable length\n",
    "              statements\n",
    "              ...\n",
    "              ...\n",
    "              ...\n",
    "              return value**\n",
    "***->two types of parameters \n",
    "        .formal parameters\n",
    "        .actual parameters\n",
    "    def fun(name,age):     #formal parameters\n",
    "        //statements\n",
    "    fun('pari',18)    #actual parameters\n",
    "    fun(18,'pari') #not valid\n",
    "    fun('pari')   # in this case by age is declared by default \n",
    "                        ie. fun(name,age=25)\n",
    "    fun('c',10,20,30)\n",
    "```"
   ]
  },
  {
   "cell_type": "code",
   "execution_count": 1,
   "metadata": {},
   "outputs": [
    {
     "name": "stdout",
     "output_type": "stream",
     "text": [
      "anits college\n"
     ]
    }
   ],
   "source": [
    "def fun(a):\n",
    "    print(a)\n",
    "fun('anits college')"
   ]
  },
  {
   "cell_type": "code",
   "execution_count": 2,
   "metadata": {},
   "outputs": [
    {
     "data": {
      "text/plain": [
       "'Anits college'"
      ]
     },
     "execution_count": 2,
     "metadata": {},
     "output_type": "execute_result"
    }
   ],
   "source": [
    "def fun():\n",
    "    a='Anits college'\n",
    "    return a\n",
    "fun()"
   ]
  },
  {
   "cell_type": "code",
   "execution_count": 3,
   "metadata": {},
   "outputs": [
    {
     "data": {
      "text/plain": [
       "'Anits'"
      ]
     },
     "execution_count": 3,
     "metadata": {},
     "output_type": "execute_result"
    }
   ],
   "source": [
    "def fun(a):\n",
    "    return a\n",
    "fun('Anits')"
   ]
  },
  {
   "cell_type": "code",
   "execution_count": 11,
   "metadata": {},
   "outputs": [
    {
     "name": "stdout",
     "output_type": "stream",
     "text": [
      "2019\n",
      "false\n"
     ]
    }
   ],
   "source": [
    "#find whether leap year or not\n",
    "def isleapyear(y):\n",
    "    if(y%4==0 and y%100!=0)or(y%400==0):\n",
    "        print(\"leap year\")\n",
    "    else:\n",
    "        print(\"false\")\n",
    "n=int(input())\n",
    "isleapyear(n)    "
   ]
  },
  {
   "cell_type": "code",
   "execution_count": 12,
   "metadata": {},
   "outputs": [
    {
     "name": "stdout",
     "output_type": "stream",
     "text": [
      "2019\n",
      "false\n"
     ]
    },
    {
     "data": {
      "text/plain": [
       "31536000000000000"
      ]
     },
     "execution_count": 12,
     "metadata": {},
     "output_type": "execute_result"
    }
   ],
   "source": [
    "# print nanoseconds of the year,consider leap year(366 days) or else 365 days\n",
    "def nano(y):\n",
    "    if((isleapyear(y))):\n",
    "        print(\"leap year\")\n",
    "        return 366*24*60*60*(10**(9))\n",
    "    else:\n",
    "        return 365*24*60*60*(10**(9))\n",
    "n=int(input())\n",
    "nano(n)    "
   ]
  },
  {
   "cell_type": "code",
   "execution_count": 23,
   "metadata": {},
   "outputs": [
    {
     "name": "stdout",
     "output_type": "stream",
     "text": [
      "5\n"
     ]
    },
    {
     "data": {
      "text/plain": [
       "True"
      ]
     },
     "execution_count": 23,
     "metadata": {},
     "output_type": "execute_result"
    }
   ],
   "source": [
    "#prime number or not:\n",
    "def prime(n):\n",
    "    if n==2:\n",
    "        return True;\n",
    "    else:\n",
    "        for i in range(2,n):\n",
    "            if(n%i==0):\n",
    "                return False\n",
    "            else:\n",
    "                return True   \n",
    "m=int(input())\n",
    "prime(m)"
   ]
  },
  {
   "cell_type": "code",
   "execution_count": 30,
   "metadata": {},
   "outputs": [
    {
     "name": "stdout",
     "output_type": "stream",
     "text": [
      "lower1\n",
      "upper10\n",
      "2 3 5 7 "
     ]
    }
   ],
   "source": [
    "#print prime numbers in the given range:\n",
    "def rangeofprime(l,u):\n",
    "    if(u>=2 or l<=2):\n",
    "        print(2,end=\" \")\n",
    "    for i in range(l,u):\n",
    "        for j in range(2,i):\n",
    "            if(i%j==0):\n",
    "                break\n",
    "            if(j==i-1):\n",
    "                print(i,end=\" \")  \n",
    "l=int(input(\"lower\"))\n",
    "u=int(input(\"upper\"))\n",
    "rangeofprime(l,u)"
   ]
  },
  {
   "cell_type": "code",
   "execution_count": 35,
   "metadata": {},
   "outputs": [
    {
     "name": "stdout",
     "output_type": "stream",
     "text": [
      "range30\n",
      "2 3 5 7 11 13 17 19 23 29 31 37 41 43 47 53 59 61 67 71 73 79 83 89 97 101 103 107 109 113 "
     ]
    }
   ],
   "source": [
    "def rangeprime(r):\n",
    "    count=0\n",
    "    i=2\n",
    "    while count<=r-1:\n",
    "        if (i==2):\n",
    "            count+=1\n",
    "            if (count<=r):\n",
    "                print(i,end=\" \")\n",
    "                i+=1\n",
    "        for j in range(2,i):\n",
    "            if(i%j==0):\n",
    "                break\n",
    "            if(j==i-1):\n",
    "                count+=1\n",
    "                if count<=r:\n",
    "                    print(i,end=\" \") \n",
    "        i+=1\n",
    "r=int(input(\"range\")) \n",
    "rangeprime(r)"
   ]
  },
  {
   "cell_type": "markdown",
   "metadata": {},
   "source": []
  },
  {
   "cell_type": "markdown",
   "metadata": {},
   "source": [
    "# *Regular Expressions*"
   ]
  },
  {
   "cell_type": "code",
   "execution_count": 40,
   "metadata": {},
   "outputs": [
    {
     "name": "stdout",
     "output_type": "stream",
     "text": [
      "8464051539\n",
      "Valid Number\n"
     ]
    }
   ],
   "source": [
    "#^[9][1]][6-9][0-9]{9}$|[6-9][0-9]{9}|^[0][6-9][0-9]{9}\n",
    "import re\n",
    "i=int(input())\n",
    "p = '^[9][1]][6-9][0-9]{9}$|[6-9][0-9]{9}|^[0][6-9][0-9]{9}'\n",
    "if(re.match(p,str(i))):\n",
    "    print(\"Valid Number\")\n",
    "else:\n",
    "    print(\"Not Valid\")"
   ]
  },
  {
   "cell_type": "code",
   "execution_count": 3,
   "metadata": {},
   "outputs": [
    {
     "name": "stdout",
     "output_type": "stream",
     "text": [
      "123\n",
      "invalid\n"
     ]
    }
   ],
   "source": [
    "#write the regex code for email validation\n",
    "import re\n",
    "i=input()\n",
    "p='^[a-z.@_0-9]{6,30}$'\n",
    "if(re.match(p,str(i))):\n",
    "    print(\"valid\")\n",
    "else:\n",
    "    print(\"invalid\")\n"
   ]
  },
  {
   "cell_type": "code",
   "execution_count": 42,
   "metadata": {},
   "outputs": [
    {
     "name": "stdout",
     "output_type": "stream",
     "text": [
      "find\n"
     ]
    }
   ],
   "source": [
    "import re\n",
    "p=\"this is anits college .Python is the workshop\"\n",
    "if(re.search('Python',p)):\n",
    "    print('find')\n",
    "else:\n",
    "    print('Not Avalilable')\n",
    "        "
   ]
  },
  {
   "cell_type": "markdown",
   "metadata": {},
   "source": [
    "# *Data structures in python*\n",
    "\n",
    "```\n",
    "similar to collection simply call it as  iterators\n",
    "    .list\n",
    "    .tuple\n",
    "    .set and\n",
    "    .dictionary\n",
    "```"
   ]
  },
  {
   "cell_type": "markdown",
   "metadata": {},
   "source": [
    "# *Lists:*\n",
    "```\n",
    "    -collection of heterogeneous(different) type of data elements\n",
    "    -it can be defined as [] and can be typecasted by list()method\n",
    "    -it can change the value, slicing is done due to index\n",
    "    -ordered format of data because of index\n",
    "```"
   ]
  },
  {
   "cell_type": "code",
   "execution_count": 4,
   "metadata": {},
   "outputs": [
    {
     "name": "stdout",
     "output_type": "stream",
     "text": [
      "['__add__', '__class__', '__contains__', '__delattr__', '__delitem__', '__dir__', '__doc__', '__eq__', '__format__', '__ge__', '__getattribute__', '__getitem__', '__gt__', '__hash__', '__iadd__', '__imul__', '__init__', '__init_subclass__', '__iter__', '__le__', '__len__', '__lt__', '__mul__', '__ne__', '__new__', '__reduce__', '__reduce_ex__', '__repr__', '__reversed__', '__rmul__', '__setattr__', '__setitem__', '__sizeof__', '__str__', '__subclasshook__', 'append', 'clear', 'copy', 'count', 'extend', 'index', 'insert', 'pop', 'remove', 'reverse', 'sort']\n"
     ]
    }
   ],
   "source": [
    "print(dir(list))"
   ]
  },
  {
   "cell_type": "code",
   "execution_count": 17,
   "metadata": {},
   "outputs": [
    {
     "name": "stdout",
     "output_type": "stream",
     "text": [
      "<class 'list'>\n",
      "[2, 5, 6, 12, 1, 13]\n",
      "12\n",
      "[6, 12, 1]\n",
      "[]\n",
      "[5, 6, 12]\n",
      "[1, 12, 6]\n",
      "[13, 1, 12]\n",
      "[]\n"
     ]
    }
   ],
   "source": [
    "p=[2,5,6,12,1,13]\n",
    "print(type(p))\n",
    "print(p)\n",
    "print(p[3])\n",
    "print(p[2:5])\n",
    "print(p[1:4:-1])\n",
    "print(p[1:4:1])\n",
    "print(p[4:1:-1])\n",
    "print(p[-1:-4:-1])\n",
    "print(p[-1:-4:1])"
   ]
  },
  {
   "cell_type": "code",
   "execution_count": 1,
   "metadata": {},
   "outputs": [
    {
     "name": "stdout",
     "output_type": "stream",
     "text": [
      "[2, 5, 6, 12, 1, 13]\n",
      "[2, 5, 6, 12, 1, 13]\n",
      "[2, 5, 6, 12, 1, 13, 100]\n"
     ]
    },
    {
     "ename": "TypeError",
     "evalue": "'NoneType' object is not iterable",
     "output_type": "error",
     "traceback": [
      "\u001b[0;31m---------------------------------------------------------------------------\u001b[0m",
      "\u001b[0;31mTypeError\u001b[0m                                 Traceback (most recent call last)",
      "\u001b[0;32m<ipython-input-1-3729f7de318b>\u001b[0m in \u001b[0;36m<module>\u001b[0;34m\u001b[0m\n\u001b[1;32m      6\u001b[0m \u001b[0mprint\u001b[0m\u001b[0;34m(\u001b[0m\u001b[0mp\u001b[0m\u001b[0;34m)\u001b[0m\u001b[0;34m\u001b[0m\u001b[0;34m\u001b[0m\u001b[0m\n\u001b[1;32m      7\u001b[0m \u001b[0mp\u001b[0m\u001b[0;34m.\u001b[0m\u001b[0mcount\u001b[0m\u001b[0;34m(\u001b[0m\u001b[0;36m13\u001b[0m\u001b[0;34m)\u001b[0m\u001b[0;34m\u001b[0m\u001b[0;34m\u001b[0m\u001b[0m\n\u001b[0;32m----> 8\u001b[0;31m \u001b[0mc\u001b[0m\u001b[0;34m=\u001b[0m\u001b[0mlist\u001b[0m\u001b[0;34m(\u001b[0m\u001b[0mk\u001b[0m\u001b[0;34m.\u001b[0m\u001b[0mextend\u001b[0m\u001b[0;34m(\u001b[0m\u001b[0mp\u001b[0m\u001b[0;34m)\u001b[0m\u001b[0;34m)\u001b[0m\u001b[0;34m\u001b[0m\u001b[0;34m\u001b[0m\u001b[0m\n\u001b[0m\u001b[1;32m      9\u001b[0m \u001b[0mprint\u001b[0m\u001b[0;34m(\u001b[0m\u001b[0mc\u001b[0m\u001b[0;34m)\u001b[0m\u001b[0;34m\u001b[0m\u001b[0;34m\u001b[0m\u001b[0m\n\u001b[1;32m     10\u001b[0m \u001b[0mprint\u001b[0m\u001b[0;34m(\u001b[0m\u001b[0mp\u001b[0m\u001b[0;34m)\u001b[0m\u001b[0;34m\u001b[0m\u001b[0;34m\u001b[0m\u001b[0m\n",
      "\u001b[0;31mTypeError\u001b[0m: 'NoneType' object is not iterable"
     ]
    }
   ],
   "source": [
    "p=[2,5,6,12,1,13]\n",
    "k=p.copy() \n",
    "print(k)\n",
    "print(p)\n",
    "p.append(int(100))\n",
    "print(p)\n",
    "p.count(13)\n",
    "c=list(k.extend(p))\n",
    "print(c)\n",
    "print(p)\n",
    "print(k)"
   ]
  },
  {
   "cell_type": "code",
   "execution_count": 2,
   "metadata": {},
   "outputs": [
    {
     "name": "stdout",
     "output_type": "stream",
     "text": [
      "[2, 5, 6, 12, 1, 13, 100]\n",
      "6\n",
      "[1, 2, 5, 6, 12, 1, 13, 100]\n",
      "[1, 2, 5, 6, 12, 1, 13, 100, 99]\n",
      "[1, 2, 5, 6, 12, 13, 100, 99]\n",
      "[1, 2, 5, 6, 12, 13, 100]\n"
     ]
    }
   ],
   "source": [
    "print(p)\n",
    "print(p.index(100))\n",
    "p.insert(0,1)\n",
    "print(p)\n",
    "p.insert(8,99)\n",
    "print(p)\n",
    "p.pop(5)  # pop(index)  #pop()-->last element of list will be poped\n",
    "print(p)\n",
    "p.remove(99)   # remove(value)\n",
    "print(p)"
   ]
  },
  {
   "cell_type": "code",
   "execution_count": 3,
   "metadata": {},
   "outputs": [
    {
     "name": "stdout",
     "output_type": "stream",
     "text": [
      "[1, 2, 5, 6, 12, 13, 100]\n",
      "[1, 2, 5, 6, 12, 13, 100]\n"
     ]
    }
   ],
   "source": [
    "print(p)\n",
    "p.sort()   #ascending\n",
    "print(p)"
   ]
  },
  {
   "cell_type": "code",
   "execution_count": 4,
   "metadata": {},
   "outputs": [
    {
     "name": "stdout",
     "output_type": "stream",
     "text": [
      "[1, 2, 5, 6, 12, 13, 100]\n",
      "[100, 13, 12, 6, 5, 2, 1]\n"
     ]
    }
   ],
   "source": [
    "print(p)\n",
    "p.sort(reverse=True)   #descending\n",
    "print(p)"
   ]
  },
  {
   "cell_type": "code",
   "execution_count": 5,
   "metadata": {},
   "outputs": [
    {
     "name": "stdout",
     "output_type": "stream",
     "text": [
      "[1, 2, 3, 4, 5]\n",
      "[]\n"
     ]
    }
   ],
   "source": [
    "p=[1,2,3,4,5]\n",
    "print(p)\n",
    "p.clear()\n",
    "print(p)"
   ]
  },
  {
   "cell_type": "code",
   "execution_count": 6,
   "metadata": {},
   "outputs": [
    {
     "name": "stdout",
     "output_type": "stream",
     "text": [
      "['23', '24', '56', '23', '56', 'raju', 'kiran']\n"
     ]
    }
   ],
   "source": [
    "s=\"23 24 56 23 56 raju kiran\"\n",
    "s=s.split(\" \")\n",
    "print(s)"
   ]
  },
  {
   "cell_type": "code",
   "execution_count": 9,
   "metadata": {},
   "outputs": [
    {
     "name": "stdout",
     "output_type": "stream",
     "text": [
      "23 345 34 "
     ]
    }
   ],
   "source": [
    "n=[23,345,'raju',34,'kiran']\n",
    "for i in n:       #for i in range(len(n)):\n",
    "    if(str(i).isdigit()):      #if(str[i].isdigit()):\n",
    "        prin\n",
    "t(i,end=\" \")           #print(i,end=\" \")"
   ]
  },
  {
   "cell_type": "code",
   "execution_count": 12,
   "metadata": {},
   "outputs": [
    {
     "name": "stdout",
     "output_type": "stream",
     "text": [
      "12 34 56 78 pari anu\n",
      "['12', '34', '56', '78', 'pari', 'anu']\n",
      "[12, 34, 56, 78]\n",
      "['pari', 'anu']\n"
     ]
    }
   ],
   "source": [
    "n=input().split()\n",
    "print(n)\n",
    "no1 =[]\n",
    "\n",
    "st1 =[]\n",
    "for i in n:\n",
    "    if(str(i).isdigit()):\n",
    "        no1.\n",
    "append(int(i))\n",
    "    else:\n",
    "        st1.append(i)\n",
    "no1.sort()\n",
    "print(no1)\n",
    "print(st1)"
   ]
  },
  {
   "cell_type": "markdown",
   "metadata": {},
   "source": [
    "# *Tuple:*\n",
    "```\n",
    "    -Collection of heterogenous data elements\n",
    "    -It can be defined as() and typecasting as tuple()\n",
    "    -It cant be change the value ,Slicing can be done\n",
    "    -Based on index the slicing is done and it is also ordered data\n",
    "```"
   ]
  },
  {
   "cell_type": "code",
   "execution_count": 13,
   "metadata": {},
   "outputs": [
    {
     "data": {
      "text/plain": [
       "(23, 34, 34.0, 'kiran')"
      ]
     },
     "execution_count": 13,
     "metadata": {},
     "output_type": "execute_result"
    }
   ],
   "source": [
    "d=(23,34,34.00,'kiran')\n",
    "d"
   ]
  },
  {
   "cell_type": "code",
   "execution_count": 16,
   "metadata": {},
   "outputs": [
    {
     "name": "stdout",
     "output_type": "stream",
     "text": [
      "(23, 34, 34.0, 'kiran')\n",
      "<class 'tuple'>\n",
      "34.0\n",
      "(34, 34.0, 'kiran')\n",
      "(23, 34, 34.0)\n"
     ]
    }
   ],
   "source": [
    "print(d)\n",
    "print(type(d))\n",
    "print(d[2])\n",
    "print(d[1:5])\n",
    "print(d[0:3:1])"
   ]
  },
  {
   "cell_type": "code",
   "execution_count": 17,
   "metadata": {},
   "outputs": [
    {
     "name": "stdout",
     "output_type": "stream",
     "text": [
      "['__add__', '__class__', '__contains__', '__delattr__', '__dir__', '__doc__', '__eq__', '__format__', '__ge__', '__getattribute__', '__getitem__', '__getnewargs__', '__gt__', '__hash__', '__init__', '__init_subclass__', '__iter__', '__le__', '__len__', '__lt__', '__mul__', '__ne__', '__new__', '__reduce__', '__reduce_ex__', '__repr__', '__rmul__', '__setattr__', '__sizeof__', '__str__', '__subclasshook__', 'count', 'index']\n"
     ]
    }
   ],
   "source": [
    "print(dir(tuple))"
   ]
  },
  {
   "cell_type": "code",
   "execution_count": 26,
   "metadata": {},
   "outputs": [
    {
     "name": "stdout",
     "output_type": "stream",
     "text": [
      "2\n",
      "1\n"
     ]
    }
   ],
   "source": [
    "print(d.count(34.00))     #prints the no.of time it is repeated\n",
    "print(d.index(34.00))     ##returns index value"
   ]
  },
  {
   "cell_type": "code",
   "execution_count": 30,
   "metadata": {},
   "outputs": [
    {
     "name": "stdout",
     "output_type": "stream",
     "text": [
      "3\n",
      "4\n"
     ]
    }
   ],
   "source": [
    "p=[1,2,3.5,3,3.0,4,5,6]\n",
    "t=[564,141,566,66.5,66,66.0]\n",
    "print(p.index(3))\n",
    "print(t.index(66))"
   ]
  },
  {
   "cell_type": "markdown",
   "metadata": {},
   "source": [
    "# *Sets:*\n",
    "```\n",
    "    -Collection of heterogenous data elements\n",
    "    -It can be defined as {} and typecaste as set()\n",
    "    -It can change the value but it doesnt support the slicing\n",
    "    -Unordered Format data ,index is not available\n",
    "    -Removes dubligate elements\n",
    "```    "
   ]
  },
  {
   "cell_type": "code",
   "execution_count": 36,
   "metadata": {},
   "outputs": [
    {
     "name": "stdout",
     "output_type": "stream",
     "text": [
      "{34, 34.567, 3434, 'pari', 'anu', 23}\n"
     ]
    }
   ],
   "source": [
    "g={34,34,34,34,34,34,34,34,34,34,34,34,34,3434,34,34,34,3434,34,34.567,'anu',23,'pari'}\n",
    "print(g)      #It doesnot allows dublicate values"
   ]
  },
  {
   "cell_type": "code",
   "execution_count": 37,
   "metadata": {},
   "outputs": [
    {
     "name": "stdout",
     "output_type": "stream",
     "text": [
      "['__and__', '__class__', '__contains__', '__delattr__', '__dir__', '__doc__', '__eq__', '__format__', '__ge__', '__getattribute__', '__gt__', '__hash__', '__iand__', '__init__', '__init_subclass__', '__ior__', '__isub__', '__iter__', '__ixor__', '__le__', '__len__', '__lt__', '__ne__', '__new__', '__or__', '__rand__', '__reduce__', '__reduce_ex__', '__repr__', '__ror__', '__rsub__', '__rxor__', '__setattr__', '__sizeof__', '__str__', '__sub__', '__subclasshook__', '__xor__', 'add', 'clear', 'copy', 'difference', 'difference_update', 'discard', 'intersection', 'intersection_update', 'isdisjoint', 'issubset', 'issuperset', 'pop', 'remove', 'symmetric_difference', 'symmetric_difference_update', 'union', 'update']\n"
     ]
    }
   ],
   "source": [
    "print(dir(set))"
   ]
  },
  {
   "cell_type": "code",
   "execution_count": 38,
   "metadata": {},
   "outputs": [
    {
     "name": "stdout",
     "output_type": "stream",
     "text": [
      "{34, 34.567, 3434, 'pari', 'anu', 23, 56}\n"
     ]
    }
   ],
   "source": [
    "h={1,2,3,4,5}\n",
    "g.add(56)\n",
    "print(g)"
   ]
  },
  {
   "cell_type": "code",
   "execution_count": null,
   "metadata": {},
   "outputs": [],
   "source": []
  }
 ],
 "metadata": {
  "kernelspec": {
   "display_name": "Python 3",
   "language": "python",
   "name": "python3"
  },
  "language_info": {
   "codemirror_mode": {
    "name": "ipython",
    "version": 3
   },
   "file_extension": ".py",
   "mimetype": "text/x-python",
   "name": "python",
   "nbconvert_exporter": "python",
   "pygments_lexer": "ipython3",
   "version": "3.7.4"
  }
 },
 "nbformat": 4,
 "nbformat_minor": 2
}
