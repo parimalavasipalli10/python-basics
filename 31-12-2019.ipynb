{
 "cells": [
  {
   "cell_type": "markdown",
   "metadata": {},
   "source": [
    "# Operators"
   ]
  },
  {
   "cell_type": "markdown",
   "metadata": {},
   "source": [
    "- Arithematic operators -> +,-,/,*,%,//,***(to calculate power)\n",
    "- Logical operators -> AND,OR,NOT\n",
    "- Relational operators -> >=,<=,==,!=\n",
    "- Bitwise operators -> >>,<<,^,~,&,|\n",
    "- Assignment operators -> +=,-=,/=,%=,*=\n",
    "- Membership operators -> in, not in                                                                           \n",
    "- Identity operators -> is ,is not"
   ]
  },
  {
   "cell_type": "markdown",
   "metadata": {},
   "source": [
    "# Arithematic operator"
   ]
  },
  {
   "cell_type": "code",
   "execution_count": 7,
   "metadata": {},
   "outputs": [
    {
     "name": "stdout",
     "output_type": "stream",
     "text": [
      "6\n",
      "2\n",
      "addition of  6  and  2  is  8\n",
      "addition of  6  and  2 is  8\n",
      "subtraction of 6 and 2 is 4\n",
      "multiplication of 6 and 2 is 12\n",
      "power of 6 and 2 is 36\n",
      "division of 6 and 2 is 3.0\n",
      "flash division of 6 and 2 is 3\n",
      "power of 6 and 2 is 36\n"
     ]
    }
   ],
   "source": [
    "x=int(input())\n",
    "y=int(input())\n",
    "print(\"addition of \",x,\" and \",y,\" is \",x+y)\n",
    "print('addition of ',x,' and ',y,'is ',x+y)\n",
    "\n",
    "print(\"subtraction of %d and %d is %d\"%(x,y,x-y))\n",
    "print(\"multiplication of {1} and {2} is {0}\".format(x*y,x,y)) # .format({0},{1},{2}) \n",
    "                                                              #here x*y in {0}\n",
    "                                                              # x in {1}\n",
    "                                                              # y in {2}\n",
    "            \n",
    "print(\"power of {0} and {1} is {2}\".format(x,y,x**y)) # here x in {0}\n",
    "                                                      # y in {1}\n",
    "                                                      # x*y in {2}\n",
    "print(\"division of {} and {} is {}\".format(x,y,x/y))\n",
    "print(\"flash division of {} and {} is {}\".format(x,y,x//y))\n",
    "print(\"power of {} and {} is {}\".format(x,y,x**y))\n"
   ]
  },
  {
   "cell_type": "markdown",
   "metadata": {},
   "source": [
    "# BITWISE OPERATOR"
   ]
  },
  {
   "cell_type": "code",
   "execution_count": 48,
   "metadata": {},
   "outputs": [
    {
     "name": "stdout",
     "output_type": "stream",
     "text": [
      "16 1\n"
     ]
    }
   ],
   "source": [
    "a=4\n",
    "print(a<<2,a>>2)   #left shift,right shift for two times"
   ]
  },
  {
   "cell_type": "code",
   "execution_count": 51,
   "metadata": {},
   "outputs": [
    {
     "name": "stdout",
     "output_type": "stream",
     "text": [
      "0 6 -5 -3\n"
     ]
    }
   ],
   "source": [
    "a=4\n",
    "b=2\n",
    "print(a&b,a|b,~a,~b)     # AND of 4 and2, OR of 4 and 2 ,NOT of a, NOT of b\n",
    "                   #~a=-(a+1)\n",
    "                    #~b=-(b+1)"
   ]
  },
  {
   "cell_type": "code",
   "execution_count": 54,
   "metadata": {},
   "outputs": [
    {
     "name": "stdout",
     "output_type": "stream",
     "text": [
      "6 2 4\n"
     ]
    }
   ],
   "source": [
    "print(4^2,6^4,6^2)    # ^ XOR OF TWO NUMBERS"
   ]
  },
  {
   "cell_type": "markdown",
   "metadata": {},
   "source": [
    "# CONDITIONAL STATEMENTS"
   ]
  },
  {
   "cell_type": "markdown",
   "metadata": {},
   "source": [
    " - To check whether the given condition is True or Flase\n",
    "    -if  --> single case stmt\n",
    "        syntax :\n",
    "            if (condition):\n",
    "                //state\n",
    "    -if else  --> two cases\n",
    "        syntax:\n",
    "            if (condition):\n",
    "                //state\n",
    "            else:\n",
    "                //state\n",
    "    -nested if  --> two or more\n",
    "        syntax:\n",
    "            if (condition 1):\n",
    "                if (condition 2):\n",
    "                    //state 1\n",
    "                else:\n",
    "                    //state 2\n",
    "            else:\n",
    "                //state 3\n",
    "                \n",
    "    -elif  --> three or more \n",
    "        syntax :\n",
    "            if (condition 1):\n",
    "                //state 1\n",
    "            elif (condition 2):\n",
    "                //state 2\n",
    "            elif (condition 3):\n",
    "                //state 3\n",
    "                |\n",
    "                |\n",
    "                |\n",
    "            else:\n",
    "                //state\n",
    "                    "
   ]
  },
  {
   "cell_type": "code",
   "execution_count": 1,
   "metadata": {},
   "outputs": [
    {
     "name": "stdout",
     "output_type": "stream",
     "text": [
      "4\n",
      "4\n",
      "4 and 4 are equal\n"
     ]
    }
   ],
   "source": [
    "x=int(input())\n",
    "y=int(input())\n",
    "if (x==y):\n",
    "    print(\"{0} and {1} are equal\".format(x,y))"
   ]
  },
  {
   "cell_type": "code",
   "execution_count": 10,
   "metadata": {},
   "outputs": [
    {
     "name": "stdout",
     "output_type": "stream",
     "text": [
      "18\n",
      "eligible for voting right now\n"
     ]
    }
   ],
   "source": [
    "x=int(input())\n",
    "if (x>18):\n",
    "    print(\"u r eligible for past {0} years\".format(x-18))\n",
    "elif (x==18):\n",
    "     print(\"eligible for voting right now\")\n",
    "else:\n",
    "    print(\"not eligible because u r age {0} is not {1} u will get eligibility in {2} yrs\".format(x,18,18-x))"
   ]
  },
  {
   "cell_type": "code",
   "execution_count": 1,
   "metadata": {},
   "outputs": [
    {
     "name": "stdout",
     "output_type": "stream",
     "text": [
      "98\n",
      "A grade\n"
     ]
    }
   ],
   "source": [
    "x=int(input())\n",
    "if(x>=90):\n",
    "    print(\"A grade\")\n",
    "elif(x>=80):\n",
    "    print(\"B grade\")\n",
    "elif(x>=70):\n",
    "    print(\"C grade\")\n",
    "elif(x>=60):\n",
    "    print(\"D GRADE\")\n",
    "else:\n",
    "    print(\"Fail\")"
   ]
  },
  {
   "cell_type": "markdown",
   "metadata": {},
   "source": [
    "# UserID and pin checking"
   ]
  },
  {
   "cell_type": "code",
   "execution_count": 19,
   "metadata": {},
   "outputs": [
    {
     "name": "stdout",
     "output_type": "stream",
     "text": [
      "enter userID to fix parimala\n",
      "enter pin to fixpari\n",
      "enter userid parimala\n",
      "enter pincodepari\n",
      "welcome user  parimala\n"
     ]
    }
   ],
   "source": [
    "x=(input(\"enter userID to fix\"))\n",
    "y=(input(\"enter pin to fix\"))\n",
    "userid=(input(\"enter userid\"))\n",
    "pin=(input(\"enter pincode\"))\n",
    "if ((userid!=x)|(pin!=y)):    # we can also write if ((userid!=x)or(pin!=y))\n",
    "                                #if((condition 1)and(condition 2))\n",
    "                                #if((condition 1),(condition 2))\n",
    "        print(\"invalid userid or pin\")\n",
    "else:\n",
    "    print(\"welcome user {0}\".format(x))\n",
    "\n",
    "    "
   ]
  },
  {
   "cell_type": "markdown",
   "metadata": {},
   "source": [
    "### *email password*"
   ]
  },
  {
   "cell_type": "code",
   "execution_count": 25,
   "metadata": {},
   "outputs": [
    {
     "name": "stdout",
     "output_type": "stream",
     "text": [
      "enter emailID to fixparimala\n",
      "enter password to fixpari\n",
      "enter emailidparimala\n",
      "enter pincodep\n",
      "invalid password\n"
     ]
    }
   ],
   "source": [
    "x=(input(\"enter emailID to fix\"))\n",
    "y=(input(\"enter password to fix\"))\n",
    "emailid=(input(\"enter emailid\"))\n",
    "if (emailid==x):\n",
    "    password=input(\"enter pincode\")\n",
    "    if (password==y):           # we can also write if ((userid!=x)or(pin!=y))\n",
    "                                #if((condition 1)and(condition 2))\n",
    "                                    #if((condition 1),(condition 2))\n",
    "        print(\"welcome user {0}\".format(x))\n",
    "    else:\n",
    "        print(\"invalid password\")\n",
    "else:\n",
    "    print(\"invalid userid \")"
   ]
  },
  {
   "cell_type": "code",
   "execution_count": 5,
   "metadata": {},
   "outputs": [
    {
     "name": "stdout",
     "output_type": "stream",
     "text": [
      "enter number10\n",
      "5 and 2.0\n",
      " 10 divisible by 2\n"
     ]
    }
   ],
   "source": [
    "x=int(input(\"enter number\"))\n",
    "if((x)%5==0):\n",
    "    print(\"{0} and {1}\".format(5,x/5))\n",
    "    if((x)%2==0):\n",
    "        print(\" {0} divisible by 2\".format(x))\n",
    "    elif((x)%3==0):\n",
    "        print(\"{0} is divisible by 3 \".format(x))\n",
    "else:\n",
    "    print(\"{0} is not divisible by 2 and 3 so o/p is {1}\".format(x,float(x)))\n"
   ]
  },
  {
   "cell_type": "markdown",
   "metadata": {},
   "source": [
    "# *Loops or iteration or repetition or control statements* :\n",
    "\n",
    "```\n",
    "       -for -->for particular range\n",
    "               Syntax:\n",
    "                  -range(n) -> Starting with 0 and ends with n-1\n",
    "                  -range(n,m) ->starting with n and ending with m-1\n",
    "                  -range(n,m,s) ->Starting with n and ending  m-1 with step s\n",
    "                  for intervariable in range():\n",
    "                     //statements\n",
    "       -while -->for particular range and infinity\n",
    "               Syntax:\n",
    "                   while condition:\n",
    "                    //statements\n",
    "                    \n",
    "                   starting =0\n",
    "                   while condition :\n",
    "                       //statements\n",
    "                       incr/decr\n",
    " ```    "
   ]
  },
  {
   "cell_type": "code",
   "execution_count": 7,
   "metadata": {},
   "outputs": [
    {
     "name": "stdout",
     "output_type": "stream",
     "text": [
      "4\n",
      "0\n",
      "1\n",
      "2\n",
      "3\n"
     ]
    }
   ],
   "source": [
    "n=int(input())\n",
    "for i in range(n):\n",
    "    print(i)"
   ]
  },
  {
   "cell_type": "code",
   "execution_count": 8,
   "metadata": {},
   "outputs": [
    {
     "name": "stdout",
     "output_type": "stream",
     "text": [
      "4\n",
      "0 1 2 3 "
     ]
    }
   ],
   "source": [
    "n=int(input())\n",
    "for i in range(n):\n",
    "    print(i,end=\" \")"
   ]
  },
  {
   "cell_type": "code",
   "execution_count": 9,
   "metadata": {},
   "outputs": [
    {
     "name": "stdout",
     "output_type": "stream",
     "text": [
      "4\n",
      "0, 1, 2, 3, "
     ]
    }
   ],
   "source": [
    "n=int(input())\n",
    "for i in range(n):\n",
    "    print(i,end=\", \")"
   ]
  },
  {
   "cell_type": "code",
   "execution_count": 10,
   "metadata": {},
   "outputs": [
    {
     "name": "stdout",
     "output_type": "stream",
     "text": [
      "4\n",
      "0,1,2,3"
     ]
    }
   ],
   "source": [
    "n=int(input())\n",
    "for i in range(n):\n",
    "    if(i==n-1):\n",
    "        print(i,end=\"\")\n",
    "    else:\n",
    "        print(i,end=\",\")\n"
   ]
  },
  {
   "cell_type": "code",
   "execution_count": null,
   "metadata": {},
   "outputs": [],
   "source": []
  }
 ],
 "metadata": {
  "kernelspec": {
   "display_name": "Python 3",
   "language": "python",
   "name": "python3"
  },
  "language_info": {
   "codemirror_mode": {
    "name": "ipython",
    "version": 3
   },
   "file_extension": ".py",
   "mimetype": "text/x-python",
   "name": "python",
   "nbconvert_exporter": "python",
   "pygments_lexer": "ipython3",
   "version": "3.7.4"
  }
 },
 "nbformat": 4,
 "nbformat_minor": 2
}
