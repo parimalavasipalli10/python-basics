{
 "cells": [
  {
   "cell_type": "code",
   "execution_count": 53,
   "metadata": {},
   "outputs": [
    {
     "name": "stdout",
     "output_type": "stream",
     "text": [
      "2079\n"
     ]
    }
   ],
   "source": [
    "p=[9,7,20,'raju','kiran','somu','mahesh123','som234u','raj234esh$']\n",
    "n1 =[]\n",
    "s1 =[]\n",
    "s2 =[]\n",
    "s2 =[]\n",
    "for i in p:\n",
    "    if(str(i).isdigit()):\n",
    "        n1.append(str(i))\n",
    "n=n1[-1:-4:-1]\n",
    "n2=n[0]+n[1]+n[2]\n",
    "print(n2)"
   ]
  },
  {
   "cell_type": "code",
   "execution_count": 55,
   "metadata": {},
   "outputs": [
    {
     "name": "stdout",
     "output_type": "stream",
     "text": [
      "2079\n"
     ]
    }
   ],
   "source": [
    "s=['9','7','20']\n",
    "s.reverse()\n",
    "print(\"\".join(s))"
   ]
  },
  {
   "cell_type": "code",
   "execution_count": 56,
   "metadata": {},
   "outputs": [
    {
     "name": "stdout",
     "output_type": "stream",
     "text": [
      "['Ramu', 'Somu']\n"
     ]
    }
   ],
   "source": [
    "d=['ramu','somu']\n",
    "k=[]\n",
    "for i in range(len(d)):\n",
    "    k.append(d[i].title())\n",
    "print(k)"
   ]
  },
  {
   "cell_type": "code",
   "execution_count": 59,
   "metadata": {},
   "outputs": [
    {
     "name": "stdout",
     "output_type": "stream",
     "text": [
      "['maheshh', 'smu']\n"
     ]
    }
   ],
   "source": [
    "g=['mahesh12h','s23m56u']\n",
    "l=[]\n",
    "mn=[]\n",
    "for j in g:\n",
    "    l=[]\n",
    "    for m in j:\n",
    "        if(m.isalpha()):\n",
    "            l.append(m)\n",
    "        #print(l)\n",
    "    mn.append(\"\".join(l))\n",
    "print(mn)\n",
    "    \n",
    "        "
   ]
  },
  {
   "cell_type": "code",
   "execution_count": 62,
   "metadata": {},
   "outputs": [
    {
     "name": "stdout",
     "output_type": "stream",
     "text": [
      "2079\n",
      "['Raju', 'Kiran', 'Somu']\n",
      "['mahesh', 'somu', 'rajesh']\n"
     ]
    }
   ],
   "source": [
    "import re\n",
    "p=['9','7','20','raju','kiran','somu','mahesh123','som234u','raj234esh$']\n",
    "n1=[]\n",
    "s1=[]\n",
    "s2=[]\n",
    "k=[]\n",
    "r1='^[a-z]{1,}$'\n",
    "r2='[0-9]{1,}$'\n",
    "for i in p:\n",
    "    if(re.match(r1,i)):\n",
    "        s1.append(i)\n",
    "    elif(re.match(r2,i)):\n",
    "         n1.append(i)\n",
    "    else:\n",
    "        s2.append(i)\n",
    "n1.reverse()\n",
    "print(\"\".join(n)) \n",
    "for i in range(len(s1)):\n",
    "    k.append(s1[i].title())\n",
    "print(k)\n",
    "l=[]\n",
    "mn=[]\n",
    "for j in s2:\n",
    "    l=[]\n",
    "    for m in j:\n",
    "        if(m.isalpha()):\n",
    "            l.append(m)\n",
    "        #print(l)\n",
    "    mn.append(\"\".join(l))\n",
    "print(mn)"
   ]
  },
  {
   "cell_type": "markdown",
   "metadata": {},
   "source": [
    "# Regular Expressions"
   ]
  },
  {
   "cell_type": "markdown",
   "metadata": {},
   "source": [
    "```\n",
    "[abc]  #accepts if the string contains a,b,c -pari,abc,a1232\n",
    "[abc]$  #accepts the string containing only a,b,c - a,b,c,aabbcc,abc,..\n",
    "```"
   ]
  },
  {
   "cell_type": "code",
   "execution_count": 65,
   "metadata": {},
   "outputs": [
    {
     "name": "stdout",
     "output_type": "stream",
     "text": [
      "{8, 5, 7}\n",
      "{145, 123, 100, 101}\n",
      "{1, 2, 4, 5, 7, 8}\n",
      "{1, 2, 4, 100, 101, 145, 123}\n"
     ]
    }
   ],
   "source": [
    "s={4,2,1,5,7,8}\n",
    "s1={100,145,123,101,4,2,1}\n",
    "print(s.difference(s1))\n",
    "print(s1.difference(s))\n",
    "print(s)\n",
    "print(s1)"
   ]
  },
  {
   "cell_type": "code",
   "execution_count": 68,
   "metadata": {},
   "outputs": [
    {
     "name": "stdout",
     "output_type": "stream",
     "text": [
      "None\n",
      "{5, 7, 8}\n",
      "{1, 2, 4, 100, 101, 145, 123}\n",
      "None\n",
      "{5, 7, 8}\n",
      "{1, 2, 4, 100, 101, 145, 123}\n"
     ]
    }
   ],
   "source": [
    "s={4,2,1,5,7,8}\n",
    "s1={100,145,123,101,4,2,1}\n",
    "print(s.difference_update(s1))\n",
    "print(s)\n",
    "print(s1)\n",
    "print(s1.difference_update(s))\n",
    "print(s)\n",
    "print(s1)"
   ]
  },
  {
   "cell_type": "code",
   "execution_count": 7,
   "metadata": {},
   "outputs": [
    {
     "name": "stdout",
     "output_type": "stream",
     "text": [
      "{5, 7, 8}\n",
      "{1, 2, 4, 100, 101, 145, 123}\n"
     ]
    }
   ],
   "source": [
    "s={4,2,1,5,7,8}\n",
    "s1={100,145,123,101,4,2,1}\n",
    "s.difference_update(s1)\n",
    "print(s)\n",
    "print(s1)"
   ]
  },
  {
   "cell_type": "code",
   "execution_count": 6,
   "metadata": {},
   "outputs": [
    {
     "name": "stdout",
     "output_type": "stream",
     "text": [
      "{1, 2, 4, 5, 7, 8}\n",
      "{100, 101, 145, 123}\n"
     ]
    }
   ],
   "source": [
    "s={4,2,1,5,7,8}\n",
    "s1={100,145,123,101,4,2,1}\n",
    "s1.difference_update(s)\n",
    "print(s)\n",
    "print(s1)"
   ]
  },
  {
   "cell_type": "code",
   "execution_count": 73,
   "metadata": {},
   "outputs": [
    {
     "name": "stdout",
     "output_type": "stream",
     "text": [
      "{1, 2, 4}\n",
      "{1, 2, 4}\n",
      "{1, 2, 4, 5, 7, 8}\n",
      "{1, 2, 4, 100, 101, 145, 123}\n"
     ]
    }
   ],
   "source": [
    "s={4,2,1,5,7,8}\n",
    "s1={100,145,123,101,4,2,1}\n",
    "print(s.intersection(s1))\n",
    "print(s1.intersection(s))\n",
    "print(s)\n",
    "print(s1)"
   ]
  },
  {
   "cell_type": "code",
   "execution_count": 13,
   "metadata": {},
   "outputs": [
    {
     "name": "stdout",
     "output_type": "stream",
     "text": [
      "{1, 2, 4}\n",
      "{1, 2, 4, 100, 101, 145, 123}\n"
     ]
    }
   ],
   "source": [
    "s={4,2,1,5,7,8}\n",
    "s1={100,145,123,101,4,2,1}\n",
    "s.intersection_update(s1) \n",
    "print(s)\n",
    "print(s1)"
   ]
  },
  {
   "cell_type": "code",
   "execution_count": 4,
   "metadata": {},
   "outputs": [
    {
     "name": "stdout",
     "output_type": "stream",
     "text": [
      "{1, 2, 4, 5, 7, 8}\n",
      "{1, 2, 4}\n"
     ]
    }
   ],
   "source": [
    "s={4,2,1,5,7,8}\n",
    "s1={100,145,123,101,4,2,1}\n",
    "s1.intersection_update(s)\n",
    "print(s)\n",
    "print(s1)"
   ]
  },
  {
   "cell_type": "code",
   "execution_count": 2,
   "metadata": {},
   "outputs": [
    {
     "name": "stdout",
     "output_type": "stream",
     "text": [
      "{1, 2, 4, 5, 100, 7, 8, 101, 145, 123}\n",
      "{1, 2, 4, 100, 101, 5, 7, 8, 145, 123}\n",
      "{1, 2, 4, 5, 7, 8}\n",
      "{1, 2, 4, 100, 101, 145, 123}\n"
     ]
    }
   ],
   "source": [
    "s={4,2,1,5,7,8}\n",
    "s1={100,145,123,101,4,2,1}\n",
    "print(s.union(s1))\n",
    "print(s1.union(s))\n",
    "print(s)\n",
    "print(s1)"
   ]
  },
  {
   "cell_type": "code",
   "execution_count": 14,
   "metadata": {},
   "outputs": [
    {
     "name": "stdout",
     "output_type": "stream",
     "text": [
      "{1, 2, 4, 5, 100, 7, 8, 101, 145, 123}\n",
      "{1, 2, 4, 100, 101, 145, 123}\n"
     ]
    }
   ],
   "source": [
    "s={4,2,1,5,7,8}\n",
    "s1={100,145,123,101,4,2,1}\n",
    "s.update(s1) #s=s.union(s1)\n",
    "print(s)\n",
    "print(s1)"
   ]
  },
  {
   "cell_type": "code",
   "execution_count": 8,
   "metadata": {},
   "outputs": [
    {
     "name": "stdout",
     "output_type": "stream",
     "text": [
      "{100, 101, 5, 7, 8, 145, 123}\n",
      "{145, 100, 5, 101, 7, 8, 123}\n",
      "{1, 2, 4, 5, 7, 8}\n",
      "{1, 2, 4, 100, 101, 145, 123}\n"
     ]
    }
   ],
   "source": [
    "s={4,2,1,5,7,8}\n",
    "s1={100,145,123,101,4,2,1}\n",
    "print(s.symmetric_difference(s1))\n",
    "print(s1.symmetric_difference(s))\n",
    "print(s)\n",
    "print(s1)"
   ]
  },
  {
   "cell_type": "code",
   "execution_count": 10,
   "metadata": {},
   "outputs": [
    {
     "name": "stdout",
     "output_type": "stream",
     "text": [
      "{100, 101, 5, 7, 8, 145, 123}\n",
      "{1, 2, 4, 100, 101, 145, 123}\n"
     ]
    }
   ],
   "source": [
    "s={4,2,1,5,7,8}\n",
    "s1={100,145,123,101,4,2,1}\n",
    "s=s.symmetric_difference(s1)\n",
    "print(s)\n",
    "print(s1)"
   ]
  },
  {
   "cell_type": "markdown",
   "metadata": {},
   "source": [
    "# *Dictionary:*\n",
    "\n",
    "```\n",
    "    -collection of keys and value pairs\n",
    "    -It can be defined as {} and dic{}\n",
    "    -It can change the value by keys,Slicing can be done only on keys and values\n",
    "    -Ordered type of data is to be stored but it is in key value pair\n",
    "    -It doesnt allow duplicate keys\n",
    "```"
   ]
  },
  {
   "cell_type": "code",
   "execution_count": 32,
   "metadata": {},
   "outputs": [
    {
     "name": "stdout",
     "output_type": "stream",
     "text": [
      "{'name': ['rajesh', 'somu'], 'age': 34, 'year': '2 year'}\n",
      "<class 'dict'>\n"
     ]
    }
   ],
   "source": [
    "h={'name':['rajesh','somu'],'age':34,'year':'2 year'}\n",
    "print(h)\n",
    "print(type(h))"
   ]
  },
  {
   "cell_type": "code",
   "execution_count": 19,
   "metadata": {},
   "outputs": [
    {
     "name": "stdout",
     "output_type": "stream",
     "text": [
      "('name', ['rajesh', 'somu']) ('age', 34) ('year', '2 year') "
     ]
    }
   ],
   "source": [
    "for i in h.items():\n",
    "    print(i,end=\" \")"
   ]
  },
  {
   "cell_type": "code",
   "execution_count": 21,
   "metadata": {},
   "outputs": [
    {
     "name": "stdout",
     "output_type": "stream",
     "text": [
      "name age year "
     ]
    }
   ],
   "source": [
    "for j in h.keys():\n",
    "    print(j,end=\" \")"
   ]
  },
  {
   "cell_type": "code",
   "execution_count": 23,
   "metadata": {},
   "outputs": [
    {
     "name": "stdout",
     "output_type": "stream",
     "text": [
      "['rajesh', 'somu'] 34 2 year "
     ]
    }
   ],
   "source": [
    "for k in h.values():\n",
    "    print(k,end=\" \")"
   ]
  },
  {
   "cell_type": "code",
   "execution_count": 24,
   "metadata": {},
   "outputs": [
    {
     "name": "stdout",
     "output_type": "stream",
     "text": [
      "['__class__', '__contains__', '__delattr__', '__delitem__', '__dir__', '__doc__', '__eq__', '__format__', '__ge__', '__getattribute__', '__getitem__', '__gt__', '__hash__', '__init__', '__init_subclass__', '__iter__', '__le__', '__len__', '__lt__', '__ne__', '__new__', '__reduce__', '__reduce_ex__', '__repr__', '__setattr__', '__setitem__', '__sizeof__', '__str__', '__subclasshook__', 'clear', 'copy', 'fromkeys', 'get', 'items', 'keys', 'pop', 'popitem', 'setdefault', 'update', 'values']\n"
     ]
    }
   ],
   "source": [
    "print(dir(dict))"
   ]
  },
  {
   "cell_type": "code",
   "execution_count": 25,
   "metadata": {},
   "outputs": [
    {
     "name": "stdout",
     "output_type": "stream",
     "text": [
      "['rajesh', 'somu']\n"
     ]
    }
   ],
   "source": [
    "print(h.get('name'))"
   ]
  },
  {
   "cell_type": "code",
   "execution_count": 26,
   "metadata": {},
   "outputs": [
    {
     "name": "stdout",
     "output_type": "stream",
     "text": [
      "34\n"
     ]
    }
   ],
   "source": [
    "print(h.get('age'))"
   ]
  },
  {
   "cell_type": "code",
   "execution_count": 27,
   "metadata": {},
   "outputs": [
    {
     "name": "stdout",
     "output_type": "stream",
     "text": [
      "2 year\n"
     ]
    }
   ],
   "source": [
    "print(h.get('year'))"
   ]
  },
  {
   "cell_type": "code",
   "execution_count": 33,
   "metadata": {},
   "outputs": [
    {
     "name": "stdout",
     "output_type": "stream",
     "text": [
      "{'name': ['rajesh', 'somu'], 'age': 34, 'year': '2 year'}\n",
      "{'name': ['rajesh', 'somu'], 'year': '2 year'}\n"
     ]
    }
   ],
   "source": [
    "print(h)\n",
    "h.pop('age')     #pop(key)\n",
    "print(h)"
   ]
  },
  {
   "cell_type": "code",
   "execution_count": 36,
   "metadata": {},
   "outputs": [
    {
     "name": "stdout",
     "output_type": "stream",
     "text": [
      "{'name': ['rajesh', 'somu'], 'year': '2 year'}\n",
      "{'name': ['rajesh', 'somu']}\n"
     ]
    }
   ],
   "source": [
    "print(h)\n",
    "h.popitem()  #removes last item\n",
    "print(h)"
   ]
  },
  {
   "cell_type": "code",
   "execution_count": 37,
   "metadata": {},
   "outputs": [
    {
     "name": "stdout",
     "output_type": "stream",
     "text": [
      "{'name': ['rajesh', 'somu'], 'surname': 'kiran'}\n"
     ]
    }
   ],
   "source": [
    "h['surname']='kiran'\n",
    "print(h)"
   ]
  },
  {
   "cell_type": "code",
   "execution_count": 38,
   "metadata": {},
   "outputs": [
    {
     "name": "stdout",
     "output_type": "stream",
     "text": [
      "{'name': ['rajesh', 'somu'], 'surname': 'kiran', 'io': None}\n"
     ]
    }
   ],
   "source": [
    "h.setdefault('io')\n",
    "print(h)"
   ]
  },
  {
   "cell_type": "code",
   "execution_count": 39,
   "metadata": {},
   "outputs": [
    {
     "data": {
      "text/plain": [
       "{'n': None, 'a': None, 'm': None, 'e': None}"
      ]
     },
     "execution_count": 39,
     "metadata": {},
     "output_type": "execute_result"
    }
   ],
   "source": [
    "h.fromkeys('name')"
   ]
  },
  {
   "cell_type": "code",
   "execution_count": 42,
   "metadata": {},
   "outputs": [
    {
     "name": "stdout",
     "output_type": "stream",
     "text": [
      "{'name': ['rajesh', 'somu'], 'surname': 'kiran', 'io': 'raj'}\n"
     ]
    }
   ],
   "source": [
    "h.update({'io':'raj'})\n",
    "print(h)"
   ]
  },
  {
   "cell_type": "code",
   "execution_count": 44,
   "metadata": {},
   "outputs": [
    {
     "name": "stdout",
     "output_type": "stream",
     "text": [
      "{'name': ['rajesh', 'somu'], 'surname': 'illapu', 'io': 'raj'}\n",
      "{'name': ['rajesh', 'somu'], 'surname': 'illapu', 'io': 'raj'}\n"
     ]
    }
   ],
   "source": [
    "print(h)\n",
    "h.update({'surname':'illapu'})\n",
    "print(h)"
   ]
  },
  {
   "cell_type": "code",
   "execution_count": null,
   "metadata": {},
   "outputs": [],
   "source": []
  }
 ],
 "metadata": {
  "kernelspec": {
   "display_name": "Python 3",
   "language": "python",
   "name": "python3"
  },
  "language_info": {
   "codemirror_mode": {
    "name": "ipython",
    "version": 3
   },
   "file_extension": ".py",
   "mimetype": "text/x-python",
   "name": "python",
   "nbconvert_exporter": "python",
   "pygments_lexer": "ipython3",
   "version": "3.7.4"
  }
 },
 "nbformat": 4,
 "nbformat_minor": 2
}
