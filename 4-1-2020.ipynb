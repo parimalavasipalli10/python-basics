{
 "cells": [
  {
   "cell_type": "code",
   "execution_count": 53,
   "metadata": {},
   "outputs": [
    {
     "name": "stdout",
     "output_type": "stream",
     "text": [
      "2079\n"
     ]
    }
   ],
   "source": [
    "p=[9,7,20,'raju','kiran','somu','mahesh123','som234u','raj234esh$']\n",
    "n1 =[]\n",
    "s1 =[]\n",
    "s2 =[]\n",
    "s2 =[]\n",
    "for i in p:\n",
    "    if(str(i).isdigit()):\n",
    "        n1.append(str(i))\n",
    "n=n1[-1:-4:-1]\n",
    "n2=n[0]+n[1]+n[2]\n",
    "print(n2)"
   ]
  },
  {
   "cell_type": "code",
   "execution_count": 55,
   "metadata": {},
   "outputs": [
    {
     "name": "stdout",
     "output_type": "stream",
     "text": [
      "2079\n"
     ]
    }
   ],
   "source": [
    "s=['9','7','20']\n",
    "s.reverse()\n",
    "print(\"\".join(s))"
   ]
  },
  {
   "cell_type": "code",
   "execution_count": 56,
   "metadata": {},
   "outputs": [
    {
     "name": "stdout",
     "output_type": "stream",
     "text": [
      "['Ramu', 'Somu']\n"
     ]
    }
   ],
   "source": [
    "d=['ramu','somu']\n",
    "k=[]\n",
    "for i in range(len(d)):\n",
    "    k.append(d[i].title())\n",
    "print(k)"
   ]
  },
  {
   "cell_type": "code",
   "execution_count": 59,
   "metadata": {},
   "outputs": [
    {
     "name": "stdout",
     "output_type": "stream",
     "text": [
      "['maheshh', 'smu']\n"
     ]
    }
   ],
   "source": [
    "g=['mahesh12h','s23m56u']\n",
    "l=[]\n",
    "mn=[]\n",
    "for j in g:\n",
    "    l=[]\n",
    "    for m in j:\n",
    "        if(m.isalpha()):\n",
    "            l.append(m)\n",
    "        #print(l)\n",
    "    mn.append(\"\".join(l))\n",
    "print(mn)\n",
    "    \n",
    "        "
   ]
  },
  {
   "cell_type": "code",
   "execution_count": 62,
   "metadata": {},
   "outputs": [
    {
     "name": "stdout",
     "output_type": "stream",
     "text": [
      "2079\n",
      "['Raju', 'Kiran', 'Somu']\n",
      "['mahesh', 'somu', 'rajesh']\n"
     ]
    }
   ],
   "source": [
    "import re\n",
    "p=['9','7','20','raju','kiran','somu','mahesh123','som234u','raj234esh$']\n",
    "n1=[]\n",
    "s1=[]\n",
    "s2=[]\n",
    "k=[]\n",
    "r1='^[a-z]{1,}$'\n",
    "r2='[0-9]{1,}$'\n",
    "for i in p:\n",
    "    if(re.match(r1,i)):\n",
    "        s1.append(i)\n",
    "    elif(re.match(r2,i)):\n",
    "         n1.append(i)\n",
    "    else:\n",
    "        s2.append(i)\n",
    "n1.reverse()\n",
    "print(\"\".join(n)) \n",
    "for i in range(len(s1)):\n",
    "    k.append(s1[i].title())\n",
    "print(k)\n",
    "l=[]\n",
    "mn=[]\n",
    "for j in s2:\n",
    "    l=[]\n",
    "    for m in j:\n",
    "        if(m.isalpha()):\n",
    "            l.append(m)\n",
    "        #print(l)\n",
    "    mn.append(\"\".join(l))\n",
    "print(mn)"
   ]
  },
  {
   "cell_type": "markdown",
   "metadata": {},
   "source": [
    "# Regular Expressions"
   ]
  },
  {
   "cell_type": "markdown",
   "metadata": {},
   "source": [
    "```\n",
    "[abc]  #accepts if the string contains a,b,c -pari,abc,a1232\n",
    "[abc]$  #accepts the string containing only a,b,c - a,b,c,aabbcc,abc,..\n",
    "```"
   ]
  },
  {
   "cell_type": "code",
   "execution_count": 65,
   "metadata": {},
   "outputs": [
    {
     "name": "stdout",
     "output_type": "stream",
     "text": [
      "{8, 5, 7}\n",
      "{145, 123, 100, 101}\n",
      "{1, 2, 4, 5, 7, 8}\n",
      "{1, 2, 4, 100, 101, 145, 123}\n"
     ]
    }
   ],
   "source": [
    "s={4,2,1,5,7,8}\n",
    "s1={100,145,123,101,4,2,1}\n",
    "print(s.difference(s1))\n",
    "print(s1.difference(s))\n",
    "print(s)\n",
    "print(s1)"
   ]
  },
  {
   "cell_type": "code",
   "execution_count": 68,
   "metadata": {},
   "outputs": [
    {
     "name": "stdout",
     "output_type": "stream",
     "text": [
      "None\n",
      "{5, 7, 8}\n",
      "{1, 2, 4, 100, 101, 145, 123}\n",
      "None\n",
      "{5, 7, 8}\n",
      "{1, 2, 4, 100, 101, 145, 123}\n"
     ]
    }
   ],
   "source": [
    "s={4,2,1,5,7,8}\n",
    "s1={100,145,123,101,4,2,1}\n",
    "print(s.difference_update(s1))\n",
    "print(s)\n",
    "print(s1)\n",
    "print(s1.difference_update(s))\n",
    "print(s)\n",
    "print(s1)"
   ]
  },
  {
   "cell_type": "code",
   "execution_count": 7,
   "metadata": {},
   "outputs": [
    {
     "name": "stdout",
     "output_type": "stream",
     "text": [
      "{5, 7, 8}\n",
      "{1, 2, 4, 100, 101, 145, 123}\n"
     ]
    }
   ],
   "source": [
    "s={4,2,1,5,7,8}\n",
    "s1={100,145,123,101,4,2,1}\n",
    "s.difference_update(s1)\n",
    "print(s)\n",
    "print(s1)"
   ]
  },
  {
   "cell_type": "code",
   "execution_count": 6,
   "metadata": {},
   "outputs": [
    {
     "name": "stdout",
     "output_type": "stream",
     "text": [
      "{1, 2, 4, 5, 7, 8}\n",
      "{100, 101, 145, 123}\n"
     ]
    }
   ],
   "source": [
    "s={4,2,1,5,7,8}\n",
    "s1={100,145,123,101,4,2,1}\n",
    "s1.difference_update(s)\n",
    "print(s)\n",
    "print(s1)"
   ]
  },
  {
   "cell_type": "code",
   "execution_count": 73,
   "metadata": {},
   "outputs": [
    {
     "name": "stdout",
     "output_type": "stream",
     "text": [
      "{1, 2, 4}\n",
      "{1, 2, 4}\n",
      "{1, 2, 4, 5, 7, 8}\n",
      "{1, 2, 4, 100, 101, 145, 123}\n"
     ]
    }
   ],
   "source": [
    "s={4,2,1,5,7,8}\n",
    "s1={100,145,123,101,4,2,1}\n",
    "print(s.intersection(s1))\n",
    "print(s1.intersection(s))\n",
    "print(s)\n",
    "print(s1)"
   ]
  },
  {
   "cell_type": "code",
   "execution_count": 13,
   "metadata": {},
   "outputs": [
    {
     "name": "stdout",
     "output_type": "stream",
     "text": [
      "{1, 2, 4}\n",
      "{1, 2, 4, 100, 101, 145, 123}\n"
     ]
    }
   ],
   "source": [
    "s={4,2,1,5,7,8}\n",
    "s1={100,145,123,101,4,2,1}\n",
    "s.intersection_update(s1) \n",
    "print(s)\n",
    "print(s1)"
   ]
  },
  {
   "cell_type": "code",
   "execution_count": 4,
   "metadata": {},
   "outputs": [
    {
     "name": "stdout",
     "output_type": "stream",
     "text": [
      "{1, 2, 4, 5, 7, 8}\n",
      "{1, 2, 4}\n"
     ]
    }
   ],
   "source": [
    "s={4,2,1,5,7,8}\n",
    "s1={100,145,123,101,4,2,1}\n",
    "s1.intersection_update(s)\n",
    "print(s)\n",
    "print(s1)"
   ]
  },
  {
   "cell_type": "code",
   "execution_count": 2,
   "metadata": {},
   "outputs": [
    {
     "name": "stdout",
     "output_type": "stream",
     "text": [
      "{1, 2, 4, 5, 100, 7, 8, 101, 145, 123}\n",
      "{1, 2, 4, 100, 101, 5, 7, 8, 145, 123}\n",
      "{1, 2, 4, 5, 7, 8}\n",
      "{1, 2, 4, 100, 101, 145, 123}\n"
     ]
    }
   ],
   "source": [
    "s={4,2,1,5,7,8}\n",
    "s1={100,145,123,101,4,2,1}\n",
    "print(s.union(s1))\n",
    "print(s1.union(s))\n",
    "print(s)\n",
    "print(s1)"
   ]
  },
  {
   "cell_type": "code",
   "execution_count": 14,
   "metadata": {},
   "outputs": [
    {
     "name": "stdout",
     "output_type": "stream",
     "text": [
      "{1, 2, 4, 5, 100, 7, 8, 101, 145, 123}\n",
      "{1, 2, 4, 100, 101, 145, 123}\n"
     ]
    }
   ],
   "source": [
    "s={4,2,1,5,7,8}\n",
    "s1={100,145,123,101,4,2,1}\n",
    "s.update(s1) #s=s.union(s1)\n",
    "print(s)\n",
    "print(s1)"
   ]
  },
  {
   "cell_type": "code",
   "execution_count": 8,
   "metadata": {},
   "outputs": [
    {
     "name": "stdout",
     "output_type": "stream",
     "text": [
      "{100, 101, 5, 7, 8, 145, 123}\n",
      "{145, 100, 5, 101, 7, 8, 123}\n",
      "{1, 2, 4, 5, 7, 8}\n",
      "{1, 2, 4, 100, 101, 145, 123}\n"
     ]
    }
   ],
   "source": [
    "s={4,2,1,5,7,8}\n",
    "s1={100,145,123,101,4,2,1}\n",
    "print(s.symmetric_difference(s1))\n",
    "print(s1.symmetric_difference(s))\n",
    "print(s)\n",
    "print(s1)"
   ]
  },
  {
   "cell_type": "code",
   "execution_count": 10,
   "metadata": {},
   "outputs": [
    {
     "name": "stdout",
     "output_type": "stream",
     "text": [
      "{100, 101, 5, 7, 8, 145, 123}\n",
      "{1, 2, 4, 100, 101, 145, 123}\n"
     ]
    }
   ],
   "source": [
    "s={4,2,1,5,7,8}\n",
    "s1={100,145,123,101,4,2,1}\n",
    "s=s.symmetric_difference(s1)\n",
    "print(s)\n",
    "print(s1)"
   ]
  },
  {
   "cell_type": "markdown",
   "metadata": {},
   "source": [
    "# *Dictionary:*\n",
    "\n",
    "```\n",
    "    -collection of keys and value pairs\n",
    "    -It can be defined as {} and dic{}\n",
    "    -It can change the value by keys,Slicing can be done only on keys and values\n",
    "    -Ordered type of data is to be stored but it is in key value pair\n",
    "    -It doesnt allow duplicate keys\n",
    "```"
   ]
  },
  {
   "cell_type": "code",
   "execution_count": 32,
   "metadata": {},
   "outputs": [
    {
     "name": "stdout",
     "output_type": "stream",
     "text": [
      "{'name': ['rajesh', 'somu'], 'age': 34, 'year': '2 year'}\n",
      "<class 'dict'>\n"
     ]
    }
   ],
   "source": [
    "h={'name':['rajesh','somu'],'age':34,'year':'2 year'}\n",
    "print(h)\n",
    "print(type(h))"
   ]
  },
  {
   "cell_type": "code",
   "execution_count": 19,
   "metadata": {},
   "outputs": [
    {
     "name": "stdout",
     "output_type": "stream",
     "text": [
      "('name', ['rajesh', 'somu']) ('age', 34) ('year', '2 year') "
     ]
    }
   ],
   "source": [
    "for i in h.items():\n",
    "    print(i,end=\" \")"
   ]
  },
  {
   "cell_type": "code",
   "execution_count": 21,
   "metadata": {},
   "outputs": [
    {
     "name": "stdout",
     "output_type": "stream",
     "text": [
      "name age year "
     ]
    }
   ],
   "source": [
    "for j in h.keys():\n",
    "    print(j,end=\" \")"
   ]
  },
  {
   "cell_type": "code",
   "execution_count": 23,
   "metadata": {},
   "outputs": [
    {
     "name": "stdout",
     "output_type": "stream",
     "text": [
      "['rajesh', 'somu'] 34 2 year "
     ]
    }
   ],
   "source": [
    "for k in h.values():\n",
    "    print(k,end=\" \")"
   ]
  },
  {
   "cell_type": "code",
   "execution_count": 24,
   "metadata": {},
   "outputs": [
    {
     "name": "stdout",
     "output_type": "stream",
     "text": [
      "['__class__', '__contains__', '__delattr__', '__delitem__', '__dir__', '__doc__', '__eq__', '__format__', '__ge__', '__getattribute__', '__getitem__', '__gt__', '__hash__', '__init__', '__init_subclass__', '__iter__', '__le__', '__len__', '__lt__', '__ne__', '__new__', '__reduce__', '__reduce_ex__', '__repr__', '__setattr__', '__setitem__', '__sizeof__', '__str__', '__subclasshook__', 'clear', 'copy', 'fromkeys', 'get', 'items', 'keys', 'pop', 'popitem', 'setdefault', 'update', 'values']\n"
     ]
    }
   ],
   "source": [
    "print(dir(dict))"
   ]
  },
  {
   "cell_type": "code",
   "execution_count": 25,
   "metadata": {},
   "outputs": [
    {
     "name": "stdout",
     "output_type": "stream",
     "text": [
      "['rajesh', 'somu']\n"
     ]
    }
   ],
   "source": [
    "print(h.get('name'))"
   ]
  },
  {
   "cell_type": "code",
   "execution_count": 26,
   "metadata": {},
   "outputs": [
    {
     "name": "stdout",
     "output_type": "stream",
     "text": [
      "34\n"
     ]
    }
   ],
   "source": [
    "print(h.get('age'))"
   ]
  },
  {
   "cell_type": "code",
   "execution_count": 27,
   "metadata": {},
   "outputs": [
    {
     "name": "stdout",
     "output_type": "stream",
     "text": [
      "2 year\n"
     ]
    }
   ],
   "source": [
    "print(h.get('year'))"
   ]
  },
  {
   "cell_type": "code",
   "execution_count": 33,
   "metadata": {},
   "outputs": [
    {
     "name": "stdout",
     "output_type": "stream",
     "text": [
      "{'name': ['rajesh', 'somu'], 'age': 34, 'year': '2 year'}\n",
      "{'name': ['rajesh', 'somu'], 'year': '2 year'}\n"
     ]
    }
   ],
   "source": [
    "print(h)\n",
    "h.pop('age')     #pop(key)\n",
    "print(h)"
   ]
  },
  {
   "cell_type": "code",
   "execution_count": 36,
   "metadata": {},
   "outputs": [
    {
     "name": "stdout",
     "output_type": "stream",
     "text": [
      "{'name': ['rajesh', 'somu'], 'year': '2 year'}\n",
      "{'name': ['rajesh', 'somu']}\n"
     ]
    }
   ],
   "source": [
    "print(h)\n",
    "h.popitem()  #removes last item\n",
    "print(h)"
   ]
  },
  {
   "cell_type": "code",
   "execution_count": 37,
   "metadata": {},
   "outputs": [
    {
     "name": "stdout",
     "output_type": "stream",
     "text": [
      "{'name': ['rajesh', 'somu'], 'surname': 'kiran'}\n"
     ]
    }
   ],
   "source": [
    "h['surname']='kiran'\n",
    "print(h)"
   ]
  },
  {
   "cell_type": "code",
   "execution_count": 38,
   "metadata": {},
   "outputs": [
    {
     "name": "stdout",
     "output_type": "stream",
     "text": [
      "{'name': ['rajesh', 'somu'], 'surname': 'kiran', 'io': None}\n"
     ]
    }
   ],
   "source": [
    "h.setdefault('io')\n",
    "print(h)"
   ]
  },
  {
   "cell_type": "code",
   "execution_count": 39,
   "metadata": {},
   "outputs": [
    {
     "data": {
      "text/plain": [
       "{'n': None, 'a': None, 'm': None, 'e': None}"
      ]
     },
     "execution_count": 39,
     "metadata": {},
     "output_type": "execute_result"
    }
   ],
   "source": [
    "h.fromkeys('name')"
   ]
  },
  {
   "cell_type": "code",
   "execution_count": 42,
   "metadata": {},
   "outputs": [
    {
     "name": "stdout",
     "output_type": "stream",
     "text": [
      "{'name': ['rajesh', 'somu'], 'surname': 'kiran', 'io': 'raj'}\n"
     ]
    }
   ],
   "source": [
    "h.update({'io':'raj'})\n",
    "print(h)"
   ]
  },
  {
   "cell_type": "code",
   "execution_count": 44,
   "metadata": {},
   "outputs": [
    {
     "name": "stdout",
     "output_type": "stream",
     "text": [
      "{'name': ['rajesh', 'somu'], 'surname': 'illapu', 'io': 'raj'}\n",
      "{'name': ['rajesh', 'somu'], 'surname': 'illapu', 'io': 'raj'}\n"
     ]
    }
   ],
   "source": [
    "print(h)\n",
    "h.update({'surname':'illapu'})\n",
    "print(h)"
   ]
  },
  {
   "cell_type": "markdown",
   "metadata": {},
   "source": [
    "# *Modules and Packages*"
   ]
  },
  {
   "cell_type": "code",
   "execution_count": 3,
   "metadata": {},
   "outputs": [
    {
     "name": "stdout",
     "output_type": "stream",
     "text": [
      "61 58 91 26 71 20 14 56 44 58 "
     ]
    }
   ],
   "source": [
    "# print random values between the given range\n",
    "import random\n",
    "def pack(lower,upper,n):\n",
    "    for i in range(n):\n",
    "        print(random.randint(lower,upper),end=\" \")\n",
    "pack(1,100,10)"
   ]
  },
  {
   "cell_type": "markdown",
   "metadata": {},
   "source": [
    "# *File Handling*"
   ]
  },
  {
   "cell_type": "markdown",
   "metadata": {},
   "source": [
    "```\n",
    "    -Open File\n",
    "    -Doing Operations on File\n",
    "    -Closing File\n",
    "```"
   ]
  },
  {
   "cell_type": "code",
   "execution_count": 9,
   "metadata": {},
   "outputs": [
    {
     "name": "stdout",
     "output_type": "stream",
     "text": [
      "I am in anits college\n",
      "For workshop on python\n",
      "For the department of CSE\n"
     ]
    }
   ],
   "source": [
    "f=open('filescse58/file.txt')  #by default it in read mode\n",
    "print(f.read())"
   ]
  },
  {
   "cell_type": "code",
   "execution_count": 8,
   "metadata": {},
   "outputs": [
    {
     "name": "stdout",
     "output_type": "stream",
     "text": [
      "I am in anits college\n",
      "For workshop on python\n",
      "For the department of CSE\n"
     ]
    },
    {
     "ename": "ValueError",
     "evalue": "I/O operation on closed file.",
     "output_type": "error",
     "traceback": [
      "\u001b[0;31m---------------------------------------------------------------------------\u001b[0m",
      "\u001b[0;31mValueError\u001b[0m                                Traceback (most recent call last)",
      "\u001b[0;32m<ipython-input-8-8ca957d6e27f>\u001b[0m in \u001b[0;36m<module>\u001b[0;34m\u001b[0m\n\u001b[1;32m      2\u001b[0m \u001b[0mprint\u001b[0m\u001b[0;34m(\u001b[0m\u001b[0mf\u001b[0m\u001b[0;34m.\u001b[0m\u001b[0mread\u001b[0m\u001b[0;34m(\u001b[0m\u001b[0;34m)\u001b[0m\u001b[0;34m)\u001b[0m\u001b[0;34m\u001b[0m\u001b[0;34m\u001b[0m\u001b[0m\n\u001b[1;32m      3\u001b[0m \u001b[0mf\u001b[0m\u001b[0;34m.\u001b[0m\u001b[0mclose\u001b[0m\u001b[0;34m(\u001b[0m\u001b[0;34m)\u001b[0m\u001b[0;34m\u001b[0m\u001b[0;34m\u001b[0m\u001b[0m\n\u001b[0;32m----> 4\u001b[0;31m \u001b[0mprint\u001b[0m\u001b[0;34m(\u001b[0m\u001b[0mf\u001b[0m\u001b[0;34m.\u001b[0m\u001b[0mread\u001b[0m\u001b[0;34m(\u001b[0m\u001b[0;34m)\u001b[0m\u001b[0;34m)\u001b[0m     \u001b[0;31m#error: I/O operation on closed file\u001b[0m\u001b[0;34m\u001b[0m\u001b[0;34m\u001b[0m\u001b[0m\n\u001b[0m",
      "\u001b[0;31mValueError\u001b[0m: I/O operation on closed file."
     ]
    }
   ],
   "source": [
    "f=open('filescse58/file.txt')\n",
    "print(f.read())\n",
    "f.close()\n",
    "print(f.read())     #error: I/O operation on closed file"
   ]
  },
  {
   "cell_type": "code",
   "execution_count": 10,
   "metadata": {},
   "outputs": [
    {
     "name": "stdout",
     "output_type": "stream",
     "text": [
      "I am in anits college\n",
      "For workshop on python\n",
      "For the department of CSE\n"
     ]
    }
   ],
   "source": [
    "f=open('filescse58/file.txt','r')\n",
    "print(f.read())\n",
    "f.close()"
   ]
  },
  {
   "cell_type": "code",
   "execution_count": 12,
   "metadata": {},
   "outputs": [],
   "source": [
    "f=open('filescse58/file.txt','w')  #write mode\n",
    "print(f.read())f.write('I am Anits student')\n",
    "f.close()"
   ]
  },
  {
   "cell_type": "code",
   "execution_count": 14,
   "metadata": {},
   "outputs": [],
   "source": [
    "f=open('filescse58/file.txt','a')\n",
    "f.write('\\nAttending Python Workshop')\n",
    "f.close()"
   ]
  },
  {
   "cell_type": "code",
   "execution_count": 17,
   "metadata": {},
   "outputs": [
    {
     "name": "stdout",
     "output_type": "stream",
     "text": [
      "85\n"
     ]
    }
   ],
   "source": [
    "with open('filescse58/file.txt','r') as f:\n",
    "    f.read()\n",
    "    print(f.tell()) #no.of letters in a file"
   ]
  },
  {
   "cell_type": "code",
   "execution_count": 20,
   "metadata": {},
   "outputs": [
    {
     "name": "stdout",
     "output_type": "stream",
     "text": [
      "m Anits student\n"
     ]
    }
   ],
   "source": [
    "with open('filescse58/file.txt','r') as f:\n",
    "    f.read()\n",
    "    f.seek(3)  #reads from third value(including)\n",
    "    print(f.read(15))   #reads upto 15 characters from third index"
   ]
  },
  {
   "cell_type": "code",
   "execution_count": 23,
   "metadata": {},
   "outputs": [
    {
     "name": "stdout",
     "output_type": "stream",
     "text": [
      "['I', 'am', 'Anits', 'student', 'Attending', 'Python', 'Workshop', 'Attending', 'Python', 'Workshop', 'In', 'Admin', 'Block']\n"
     ]
    }
   ],
   "source": [
    "with open('filescse58/file.txt','r') as f:\n",
    "    r=f.read()\n",
    "    print(r.split())"
   ]
  },
  {
   "cell_type": "code",
   "execution_count": 24,
   "metadata": {},
   "outputs": [
    {
     "name": "stdout",
     "output_type": "stream",
     "text": [
      "['I am Anits student\\n', 'Attending Python Workshop\\n', 'Attending Python Workshop\\n', 'In Admin Block']\n"
     ]
    }
   ],
   "source": [
    "with open('filescse58/file.txt','r') as f:\n",
    "    print(f.readlines())"
   ]
  },
  {
   "cell_type": "code",
   "execution_count": 25,
   "metadata": {},
   "outputs": [
    {
     "name": "stdout",
     "output_type": "stream",
     "text": [
      "I am Anits student\n",
      "Attending Python Workshop\n",
      "Attending Python Workshop\n",
      "In Admin Block"
     ]
    }
   ],
   "source": [
    "with open('filescse58/file.txt','r') as f:\n",
    "    w=f.readlines()\n",
    "    for i in w:\n",
    "        print(i,end=\"\")"
   ]
  },
  {
   "cell_type": "code",
   "execution_count": 28,
   "metadata": {},
   "outputs": [
    {
     "name": "stdout",
     "output_type": "stream",
     "text": [
      "I am Anits student\n",
      "Attending Python Workshop\n",
      "Attending Python Workshop\n",
      "In Admin Block\n",
      " 4\n"
     ]
    }
   ],
   "source": [
    "with open('filescse58/file.txt','r') as f:\n",
    "    w=f.readlines()\n",
    "    count=0\n",
    "    for i in w:\n",
    "        print(i,end=\"\")\n",
    "        count+=1\n",
    "print(\"\\n\",count)"
   ]
  },
  {
   "cell_type": "markdown",
   "metadata": {},
   "source": [
    "# *Functional Programing:*"
   ]
  },
  {
   "cell_type": "code",
   "execution_count": 29,
   "metadata": {},
   "outputs": [
    {
     "name": "stdout",
     "output_type": "stream",
     "text": [
      "[1, 2, 3, 4, 5, 6, 7, 8, 9]\n"
     ]
    }
   ],
   "source": [
    "## List Comprehensions\n",
    "l=[]\n",
    "for i in range(1,10):\n",
    "    l.append(i)\n",
    "print(l)"
   ]
  },
  {
   "cell_type": "code",
   "execution_count": 32,
   "metadata": {},
   "outputs": [
    {
     "name": "stdout",
     "output_type": "stream",
     "text": [
      "[1, 2, 3, 4, 5, 6, 7, 8, 9]\n"
     ]
    }
   ],
   "source": [
    "print([i for i in range(1,10)])"
   ]
  },
  {
   "cell_type": "code",
   "execution_count": 34,
   "metadata": {},
   "outputs": [
    {
     "name": "stdout",
     "output_type": "stream",
     "text": [
      "1 2 3 anu pari\n",
      "['1', '2', '3', 'anu', 'pari']\n"
     ]
    }
   ],
   "source": [
    "print([i for i in (input().split())])"
   ]
  },
  {
   "cell_type": "code",
   "execution_count": 37,
   "metadata": {},
   "outputs": [
    {
     "name": "stdout",
     "output_type": "stream",
     "text": [
      "['This', 'is', 'anits', 'college', '.We', 'are', 'having', 'the', 'python', 'Workshop']\n"
     ]
    }
   ],
   "source": [
    "para=\"This is anits college .We are having the python Workshop\"\n",
    "l=[]\n",
    "for i in para.split():\n",
    "    l.append(i)\n",
    "print(l)"
   ]
  },
  {
   "cell_type": "code",
   "execution_count": 38,
   "metadata": {},
   "outputs": [
    {
     "name": "stdout",
     "output_type": "stream",
     "text": [
      "['This', 'is', 'anits', 'college', '.We', 'are', 'having', 'the', 'python', 'Workshop']\n"
     ]
    }
   ],
   "source": [
    "print([i for i in para.split()])"
   ]
  },
  {
   "cell_type": "markdown",
   "metadata": {},
   "source": [
    "# *Maps:*"
   ]
  },
  {
   "cell_type": "code",
   "execution_count": 2,
   "metadata": {},
   "outputs": [
    {
     "name": "stdout",
     "output_type": "stream",
     "text": [
      "[2, 4, 6, 8]\n"
     ]
    }
   ],
   "source": [
    "def add(a):\n",
    "    return a+a\n",
    "l=list(map(add,range(1,5)))\n",
    "print(l)"
   ]
  },
  {
   "cell_type": "code",
   "execution_count": null,
   "metadata": {},
   "outputs": [],
   "source": []
  }
 ],
 "metadata": {
  "kernelspec": {
   "display_name": "Python 3",
   "language": "python",
   "name": "python3"
  },
  "language_info": {
   "codemirror_mode": {
    "name": "ipython",
    "version": 3
   },
   "file_extension": ".py",
   "mimetype": "text/x-python",
   "name": "python",
   "nbconvert_exporter": "python",
   "pygments_lexer": "ipython3",
   "version": "3.7.4"
  }
 },
 "nbformat": 4,
 "nbformat_minor": 2
}
